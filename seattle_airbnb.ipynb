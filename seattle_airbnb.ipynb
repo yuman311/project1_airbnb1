{
 "cells": [
  {
   "cell_type": "markdown",
   "metadata": {},
   "source": [
    "# Project: Seattle Airbnb"
   ]
  },
  {
   "cell_type": "markdown",
   "metadata": {},
   "source": [
    "> For this project, you will pick a dataset. Inspired by Robert, there are a few public datasets from Airbnb available below, but you may also choose a dataset similar to what was used in the lessons, or an entirely different dataset. Using your dataset, you will choose 3 questions you aspire to answer from the data.\n",
    "\n",
    "I chose Airbnb data in Seattle, and have the following three questions:\n",
    "\n",
    "- What is the seasonal pattern of Airbnb in Seattle?\n",
    "\n",
    "- What kinds of Airbnb homes are popular?\n",
    "\n",
    "- What are the most influential inner features about the rental price?"
   ]
  },
  {
   "cell_type": "code",
   "execution_count": 1,
   "metadata": {},
   "outputs": [],
   "source": [
    "# import libraries\n",
    "import numpy as np\n",
    "import pandas as pd\n",
    "import matplotlib.pyplot as plt\n",
    "import seaborn as sns"
   ]
  },
  {
   "cell_type": "code",
   "execution_count": 2,
   "metadata": {},
   "outputs": [],
   "source": [
    "# load data\n",
    "cal = pd.read_csv('D:/OneDrive/Study/MOOC/Udacity/Data_Scientist/DSND_Term2/04Seattle_Airbnb/data/calendar.csv')\n",
    "lst = pd.read_csv('D:/OneDrive/Study/MOOC/Udacity/Data_Scientist/DSND_Term2/04Seattle_Airbnb/data/listings.csv')\n",
    "rev = pd.read_csv('D:/OneDrive/Study/MOOC/Udacity/Data_Scientist/DSND_Term2/04Seattle_Airbnb/data/reviews.csv')"
   ]
  },
  {
   "cell_type": "markdown",
   "metadata": {},
   "source": [
    "## Data understanding"
   ]
  },
  {
   "cell_type": "code",
   "execution_count": 3,
   "metadata": {},
   "outputs": [
    {
     "data": {
      "text/html": [
       "<div>\n",
       "<style scoped>\n",
       "    .dataframe tbody tr th:only-of-type {\n",
       "        vertical-align: middle;\n",
       "    }\n",
       "\n",
       "    .dataframe tbody tr th {\n",
       "        vertical-align: top;\n",
       "    }\n",
       "\n",
       "    .dataframe thead th {\n",
       "        text-align: right;\n",
       "    }\n",
       "</style>\n",
       "<table border=\"1\" class=\"dataframe\">\n",
       "  <thead>\n",
       "    <tr style=\"text-align: right;\">\n",
       "      <th></th>\n",
       "      <th>listing_id</th>\n",
       "      <th>date</th>\n",
       "      <th>available</th>\n",
       "      <th>price</th>\n",
       "    </tr>\n",
       "  </thead>\n",
       "  <tbody>\n",
       "    <tr>\n",
       "      <th>0</th>\n",
       "      <td>241032</td>\n",
       "      <td>2016-01-04</td>\n",
       "      <td>t</td>\n",
       "      <td>$85.00</td>\n",
       "    </tr>\n",
       "    <tr>\n",
       "      <th>1</th>\n",
       "      <td>241032</td>\n",
       "      <td>2016-01-05</td>\n",
       "      <td>t</td>\n",
       "      <td>$85.00</td>\n",
       "    </tr>\n",
       "    <tr>\n",
       "      <th>2</th>\n",
       "      <td>241032</td>\n",
       "      <td>2016-01-06</td>\n",
       "      <td>f</td>\n",
       "      <td>NaN</td>\n",
       "    </tr>\n",
       "    <tr>\n",
       "      <th>3</th>\n",
       "      <td>241032</td>\n",
       "      <td>2016-01-07</td>\n",
       "      <td>f</td>\n",
       "      <td>NaN</td>\n",
       "    </tr>\n",
       "    <tr>\n",
       "      <th>4</th>\n",
       "      <td>241032</td>\n",
       "      <td>2016-01-08</td>\n",
       "      <td>f</td>\n",
       "      <td>NaN</td>\n",
       "    </tr>\n",
       "  </tbody>\n",
       "</table>\n",
       "</div>"
      ],
      "text/plain": [
       "   listing_id        date available   price\n",
       "0      241032  2016-01-04         t  $85.00\n",
       "1      241032  2016-01-05         t  $85.00\n",
       "2      241032  2016-01-06         f     NaN\n",
       "3      241032  2016-01-07         f     NaN\n",
       "4      241032  2016-01-08         f     NaN"
      ]
     },
     "execution_count": 3,
     "metadata": {},
     "output_type": "execute_result"
    }
   ],
   "source": [
    "cal.head()"
   ]
  },
  {
   "cell_type": "code",
   "execution_count": 4,
   "metadata": {
    "scrolled": false
   },
   "outputs": [
    {
     "name": "stdout",
     "output_type": "stream",
     "text": [
      "<class 'pandas.core.frame.DataFrame'>\n",
      "RangeIndex: 1393570 entries, 0 to 1393569\n",
      "Data columns (total 4 columns):\n",
      "listing_id    1393570 non-null int64\n",
      "date          1393570 non-null object\n",
      "available     1393570 non-null object\n",
      "price         934542 non-null object\n",
      "dtypes: int64(1), object(3)\n",
      "memory usage: 42.5+ MB\n"
     ]
    }
   ],
   "source": [
    "cal.info()"
   ]
  },
  {
   "cell_type": "code",
   "execution_count": 5,
   "metadata": {},
   "outputs": [
    {
     "data": {
      "text/html": [
       "<div>\n",
       "<style scoped>\n",
       "    .dataframe tbody tr th:only-of-type {\n",
       "        vertical-align: middle;\n",
       "    }\n",
       "\n",
       "    .dataframe tbody tr th {\n",
       "        vertical-align: top;\n",
       "    }\n",
       "\n",
       "    .dataframe thead th {\n",
       "        text-align: right;\n",
       "    }\n",
       "</style>\n",
       "<table border=\"1\" class=\"dataframe\">\n",
       "  <thead>\n",
       "    <tr style=\"text-align: right;\">\n",
       "      <th></th>\n",
       "      <th>id</th>\n",
       "      <th>listing_url</th>\n",
       "      <th>scrape_id</th>\n",
       "      <th>last_scraped</th>\n",
       "      <th>name</th>\n",
       "      <th>summary</th>\n",
       "      <th>space</th>\n",
       "      <th>description</th>\n",
       "      <th>experiences_offered</th>\n",
       "      <th>neighborhood_overview</th>\n",
       "      <th>...</th>\n",
       "      <th>review_scores_value</th>\n",
       "      <th>requires_license</th>\n",
       "      <th>license</th>\n",
       "      <th>jurisdiction_names</th>\n",
       "      <th>instant_bookable</th>\n",
       "      <th>cancellation_policy</th>\n",
       "      <th>require_guest_profile_picture</th>\n",
       "      <th>require_guest_phone_verification</th>\n",
       "      <th>calculated_host_listings_count</th>\n",
       "      <th>reviews_per_month</th>\n",
       "    </tr>\n",
       "  </thead>\n",
       "  <tbody>\n",
       "    <tr>\n",
       "      <th>0</th>\n",
       "      <td>241032</td>\n",
       "      <td>https://www.airbnb.com/rooms/241032</td>\n",
       "      <td>20160104002432</td>\n",
       "      <td>2016-01-04</td>\n",
       "      <td>Stylish Queen Anne Apartment</td>\n",
       "      <td>NaN</td>\n",
       "      <td>Make your self at home in this charming one-be...</td>\n",
       "      <td>Make your self at home in this charming one-be...</td>\n",
       "      <td>none</td>\n",
       "      <td>NaN</td>\n",
       "      <td>...</td>\n",
       "      <td>10.0</td>\n",
       "      <td>f</td>\n",
       "      <td>NaN</td>\n",
       "      <td>WASHINGTON</td>\n",
       "      <td>f</td>\n",
       "      <td>moderate</td>\n",
       "      <td>f</td>\n",
       "      <td>f</td>\n",
       "      <td>2</td>\n",
       "      <td>4.07</td>\n",
       "    </tr>\n",
       "    <tr>\n",
       "      <th>1</th>\n",
       "      <td>953595</td>\n",
       "      <td>https://www.airbnb.com/rooms/953595</td>\n",
       "      <td>20160104002432</td>\n",
       "      <td>2016-01-04</td>\n",
       "      <td>Bright &amp; Airy Queen Anne Apartment</td>\n",
       "      <td>Chemically sensitive? We've removed the irrita...</td>\n",
       "      <td>Beautiful, hypoallergenic apartment in an extr...</td>\n",
       "      <td>Chemically sensitive? We've removed the irrita...</td>\n",
       "      <td>none</td>\n",
       "      <td>Queen Anne is a wonderful, truly functional vi...</td>\n",
       "      <td>...</td>\n",
       "      <td>10.0</td>\n",
       "      <td>f</td>\n",
       "      <td>NaN</td>\n",
       "      <td>WASHINGTON</td>\n",
       "      <td>f</td>\n",
       "      <td>strict</td>\n",
       "      <td>t</td>\n",
       "      <td>t</td>\n",
       "      <td>6</td>\n",
       "      <td>1.48</td>\n",
       "    </tr>\n",
       "    <tr>\n",
       "      <th>2</th>\n",
       "      <td>3308979</td>\n",
       "      <td>https://www.airbnb.com/rooms/3308979</td>\n",
       "      <td>20160104002432</td>\n",
       "      <td>2016-01-04</td>\n",
       "      <td>New Modern House-Amazing water view</td>\n",
       "      <td>New modern house built in 2013.  Spectacular s...</td>\n",
       "      <td>Our house is modern, light and fresh with a wa...</td>\n",
       "      <td>New modern house built in 2013.  Spectacular s...</td>\n",
       "      <td>none</td>\n",
       "      <td>Upper Queen Anne is a charming neighborhood fu...</td>\n",
       "      <td>...</td>\n",
       "      <td>10.0</td>\n",
       "      <td>f</td>\n",
       "      <td>NaN</td>\n",
       "      <td>WASHINGTON</td>\n",
       "      <td>f</td>\n",
       "      <td>strict</td>\n",
       "      <td>f</td>\n",
       "      <td>f</td>\n",
       "      <td>2</td>\n",
       "      <td>1.15</td>\n",
       "    </tr>\n",
       "    <tr>\n",
       "      <th>3</th>\n",
       "      <td>7421966</td>\n",
       "      <td>https://www.airbnb.com/rooms/7421966</td>\n",
       "      <td>20160104002432</td>\n",
       "      <td>2016-01-04</td>\n",
       "      <td>Queen Anne Chateau</td>\n",
       "      <td>A charming apartment that sits atop Queen Anne...</td>\n",
       "      <td>NaN</td>\n",
       "      <td>A charming apartment that sits atop Queen Anne...</td>\n",
       "      <td>none</td>\n",
       "      <td>NaN</td>\n",
       "      <td>...</td>\n",
       "      <td>NaN</td>\n",
       "      <td>f</td>\n",
       "      <td>NaN</td>\n",
       "      <td>WASHINGTON</td>\n",
       "      <td>f</td>\n",
       "      <td>flexible</td>\n",
       "      <td>f</td>\n",
       "      <td>f</td>\n",
       "      <td>1</td>\n",
       "      <td>NaN</td>\n",
       "    </tr>\n",
       "    <tr>\n",
       "      <th>4</th>\n",
       "      <td>278830</td>\n",
       "      <td>https://www.airbnb.com/rooms/278830</td>\n",
       "      <td>20160104002432</td>\n",
       "      <td>2016-01-04</td>\n",
       "      <td>Charming craftsman 3 bdm house</td>\n",
       "      <td>Cozy family craftman house in beautiful neighb...</td>\n",
       "      <td>Cozy family craftman house in beautiful neighb...</td>\n",
       "      <td>Cozy family craftman house in beautiful neighb...</td>\n",
       "      <td>none</td>\n",
       "      <td>We are in the beautiful neighborhood of Queen ...</td>\n",
       "      <td>...</td>\n",
       "      <td>9.0</td>\n",
       "      <td>f</td>\n",
       "      <td>NaN</td>\n",
       "      <td>WASHINGTON</td>\n",
       "      <td>f</td>\n",
       "      <td>strict</td>\n",
       "      <td>f</td>\n",
       "      <td>f</td>\n",
       "      <td>1</td>\n",
       "      <td>0.89</td>\n",
       "    </tr>\n",
       "  </tbody>\n",
       "</table>\n",
       "<p>5 rows × 92 columns</p>\n",
       "</div>"
      ],
      "text/plain": [
       "        id                           listing_url       scrape_id last_scraped  \\\n",
       "0   241032   https://www.airbnb.com/rooms/241032  20160104002432   2016-01-04   \n",
       "1   953595   https://www.airbnb.com/rooms/953595  20160104002432   2016-01-04   \n",
       "2  3308979  https://www.airbnb.com/rooms/3308979  20160104002432   2016-01-04   \n",
       "3  7421966  https://www.airbnb.com/rooms/7421966  20160104002432   2016-01-04   \n",
       "4   278830   https://www.airbnb.com/rooms/278830  20160104002432   2016-01-04   \n",
       "\n",
       "                                  name  \\\n",
       "0         Stylish Queen Anne Apartment   \n",
       "1   Bright & Airy Queen Anne Apartment   \n",
       "2  New Modern House-Amazing water view   \n",
       "3                   Queen Anne Chateau   \n",
       "4       Charming craftsman 3 bdm house   \n",
       "\n",
       "                                             summary  \\\n",
       "0                                                NaN   \n",
       "1  Chemically sensitive? We've removed the irrita...   \n",
       "2  New modern house built in 2013.  Spectacular s...   \n",
       "3  A charming apartment that sits atop Queen Anne...   \n",
       "4  Cozy family craftman house in beautiful neighb...   \n",
       "\n",
       "                                               space  \\\n",
       "0  Make your self at home in this charming one-be...   \n",
       "1  Beautiful, hypoallergenic apartment in an extr...   \n",
       "2  Our house is modern, light and fresh with a wa...   \n",
       "3                                                NaN   \n",
       "4  Cozy family craftman house in beautiful neighb...   \n",
       "\n",
       "                                         description experiences_offered  \\\n",
       "0  Make your self at home in this charming one-be...                none   \n",
       "1  Chemically sensitive? We've removed the irrita...                none   \n",
       "2  New modern house built in 2013.  Spectacular s...                none   \n",
       "3  A charming apartment that sits atop Queen Anne...                none   \n",
       "4  Cozy family craftman house in beautiful neighb...                none   \n",
       "\n",
       "                               neighborhood_overview  ... review_scores_value  \\\n",
       "0                                                NaN  ...                10.0   \n",
       "1  Queen Anne is a wonderful, truly functional vi...  ...                10.0   \n",
       "2  Upper Queen Anne is a charming neighborhood fu...  ...                10.0   \n",
       "3                                                NaN  ...                 NaN   \n",
       "4  We are in the beautiful neighborhood of Queen ...  ...                 9.0   \n",
       "\n",
       "  requires_license license jurisdiction_names instant_bookable  \\\n",
       "0                f     NaN         WASHINGTON                f   \n",
       "1                f     NaN         WASHINGTON                f   \n",
       "2                f     NaN         WASHINGTON                f   \n",
       "3                f     NaN         WASHINGTON                f   \n",
       "4                f     NaN         WASHINGTON                f   \n",
       "\n",
       "  cancellation_policy  require_guest_profile_picture  \\\n",
       "0            moderate                              f   \n",
       "1              strict                              t   \n",
       "2              strict                              f   \n",
       "3            flexible                              f   \n",
       "4              strict                              f   \n",
       "\n",
       "  require_guest_phone_verification calculated_host_listings_count  \\\n",
       "0                                f                              2   \n",
       "1                                t                              6   \n",
       "2                                f                              2   \n",
       "3                                f                              1   \n",
       "4                                f                              1   \n",
       "\n",
       "  reviews_per_month  \n",
       "0              4.07  \n",
       "1              1.48  \n",
       "2              1.15  \n",
       "3               NaN  \n",
       "4              0.89  \n",
       "\n",
       "[5 rows x 92 columns]"
      ]
     },
     "execution_count": 5,
     "metadata": {},
     "output_type": "execute_result"
    }
   ],
   "source": [
    "lst.head()"
   ]
  },
  {
   "cell_type": "code",
   "execution_count": 6,
   "metadata": {},
   "outputs": [
    {
     "name": "stdout",
     "output_type": "stream",
     "text": [
      "<class 'pandas.core.frame.DataFrame'>\n",
      "RangeIndex: 3818 entries, 0 to 3817\n",
      "Data columns (total 92 columns):\n",
      "id                                  3818 non-null int64\n",
      "listing_url                         3818 non-null object\n",
      "scrape_id                           3818 non-null int64\n",
      "last_scraped                        3818 non-null object\n",
      "name                                3818 non-null object\n",
      "summary                             3641 non-null object\n",
      "space                               3249 non-null object\n",
      "description                         3818 non-null object\n",
      "experiences_offered                 3818 non-null object\n",
      "neighborhood_overview               2786 non-null object\n",
      "notes                               2212 non-null object\n",
      "transit                             2884 non-null object\n",
      "thumbnail_url                       3498 non-null object\n",
      "medium_url                          3498 non-null object\n",
      "picture_url                         3818 non-null object\n",
      "xl_picture_url                      3498 non-null object\n",
      "host_id                             3818 non-null int64\n",
      "host_url                            3818 non-null object\n",
      "host_name                           3816 non-null object\n",
      "host_since                          3816 non-null object\n",
      "host_location                       3810 non-null object\n",
      "host_about                          2959 non-null object\n",
      "host_response_time                  3295 non-null object\n",
      "host_response_rate                  3295 non-null object\n",
      "host_acceptance_rate                3045 non-null object\n",
      "host_is_superhost                   3816 non-null object\n",
      "host_thumbnail_url                  3816 non-null object\n",
      "host_picture_url                    3816 non-null object\n",
      "host_neighbourhood                  3518 non-null object\n",
      "host_listings_count                 3816 non-null float64\n",
      "host_total_listings_count           3816 non-null float64\n",
      "host_verifications                  3818 non-null object\n",
      "host_has_profile_pic                3816 non-null object\n",
      "host_identity_verified              3816 non-null object\n",
      "street                              3818 non-null object\n",
      "neighbourhood                       3402 non-null object\n",
      "neighbourhood_cleansed              3818 non-null object\n",
      "neighbourhood_group_cleansed        3818 non-null object\n",
      "city                                3818 non-null object\n",
      "state                               3818 non-null object\n",
      "zipcode                             3811 non-null object\n",
      "market                              3818 non-null object\n",
      "smart_location                      3818 non-null object\n",
      "country_code                        3818 non-null object\n",
      "country                             3818 non-null object\n",
      "latitude                            3818 non-null float64\n",
      "longitude                           3818 non-null float64\n",
      "is_location_exact                   3818 non-null object\n",
      "property_type                       3817 non-null object\n",
      "room_type                           3818 non-null object\n",
      "accommodates                        3818 non-null int64\n",
      "bathrooms                           3802 non-null float64\n",
      "bedrooms                            3812 non-null float64\n",
      "beds                                3817 non-null float64\n",
      "bed_type                            3818 non-null object\n",
      "amenities                           3818 non-null object\n",
      "square_feet                         97 non-null float64\n",
      "price                               3818 non-null object\n",
      "weekly_price                        2009 non-null object\n",
      "monthly_price                       1517 non-null object\n",
      "security_deposit                    1866 non-null object\n",
      "cleaning_fee                        2788 non-null object\n",
      "guests_included                     3818 non-null int64\n",
      "extra_people                        3818 non-null object\n",
      "minimum_nights                      3818 non-null int64\n",
      "maximum_nights                      3818 non-null int64\n",
      "calendar_updated                    3818 non-null object\n",
      "has_availability                    3818 non-null object\n",
      "availability_30                     3818 non-null int64\n",
      "availability_60                     3818 non-null int64\n",
      "availability_90                     3818 non-null int64\n",
      "availability_365                    3818 non-null int64\n",
      "calendar_last_scraped               3818 non-null object\n",
      "number_of_reviews                   3818 non-null int64\n",
      "first_review                        3191 non-null object\n",
      "last_review                         3191 non-null object\n",
      "review_scores_rating                3171 non-null float64\n",
      "review_scores_accuracy              3160 non-null float64\n",
      "review_scores_cleanliness           3165 non-null float64\n",
      "review_scores_checkin               3160 non-null float64\n",
      "review_scores_communication         3167 non-null float64\n",
      "review_scores_location              3163 non-null float64\n",
      "review_scores_value                 3162 non-null float64\n",
      "requires_license                    3818 non-null object\n",
      "license                             0 non-null float64\n",
      "jurisdiction_names                  3818 non-null object\n",
      "instant_bookable                    3818 non-null object\n",
      "cancellation_policy                 3818 non-null object\n",
      "require_guest_profile_picture       3818 non-null object\n",
      "require_guest_phone_verification    3818 non-null object\n",
      "calculated_host_listings_count      3818 non-null int64\n",
      "reviews_per_month                   3191 non-null float64\n",
      "dtypes: float64(17), int64(13), object(62)\n",
      "memory usage: 2.7+ MB\n"
     ]
    }
   ],
   "source": [
    "lst.info()"
   ]
  },
  {
   "cell_type": "code",
   "execution_count": 7,
   "metadata": {},
   "outputs": [
    {
     "data": {
      "text/html": [
       "<div>\n",
       "<style scoped>\n",
       "    .dataframe tbody tr th:only-of-type {\n",
       "        vertical-align: middle;\n",
       "    }\n",
       "\n",
       "    .dataframe tbody tr th {\n",
       "        vertical-align: top;\n",
       "    }\n",
       "\n",
       "    .dataframe thead th {\n",
       "        text-align: right;\n",
       "    }\n",
       "</style>\n",
       "<table border=\"1\" class=\"dataframe\">\n",
       "  <thead>\n",
       "    <tr style=\"text-align: right;\">\n",
       "      <th></th>\n",
       "      <th>listing_id</th>\n",
       "      <th>id</th>\n",
       "      <th>date</th>\n",
       "      <th>reviewer_id</th>\n",
       "      <th>reviewer_name</th>\n",
       "      <th>comments</th>\n",
       "    </tr>\n",
       "  </thead>\n",
       "  <tbody>\n",
       "    <tr>\n",
       "      <th>0</th>\n",
       "      <td>7202016</td>\n",
       "      <td>38917982</td>\n",
       "      <td>2015-07-19</td>\n",
       "      <td>28943674</td>\n",
       "      <td>Bianca</td>\n",
       "      <td>Cute and cozy place. Perfect location to every...</td>\n",
       "    </tr>\n",
       "    <tr>\n",
       "      <th>1</th>\n",
       "      <td>7202016</td>\n",
       "      <td>39087409</td>\n",
       "      <td>2015-07-20</td>\n",
       "      <td>32440555</td>\n",
       "      <td>Frank</td>\n",
       "      <td>Kelly has a great room in a very central locat...</td>\n",
       "    </tr>\n",
       "    <tr>\n",
       "      <th>2</th>\n",
       "      <td>7202016</td>\n",
       "      <td>39820030</td>\n",
       "      <td>2015-07-26</td>\n",
       "      <td>37722850</td>\n",
       "      <td>Ian</td>\n",
       "      <td>Very spacious apartment, and in a great neighb...</td>\n",
       "    </tr>\n",
       "    <tr>\n",
       "      <th>3</th>\n",
       "      <td>7202016</td>\n",
       "      <td>40813543</td>\n",
       "      <td>2015-08-02</td>\n",
       "      <td>33671805</td>\n",
       "      <td>George</td>\n",
       "      <td>Close to Seattle Center and all it has to offe...</td>\n",
       "    </tr>\n",
       "    <tr>\n",
       "      <th>4</th>\n",
       "      <td>7202016</td>\n",
       "      <td>41986501</td>\n",
       "      <td>2015-08-10</td>\n",
       "      <td>34959538</td>\n",
       "      <td>Ming</td>\n",
       "      <td>Kelly was a great host and very accommodating ...</td>\n",
       "    </tr>\n",
       "  </tbody>\n",
       "</table>\n",
       "</div>"
      ],
      "text/plain": [
       "   listing_id        id        date  reviewer_id reviewer_name  \\\n",
       "0     7202016  38917982  2015-07-19     28943674        Bianca   \n",
       "1     7202016  39087409  2015-07-20     32440555         Frank   \n",
       "2     7202016  39820030  2015-07-26     37722850           Ian   \n",
       "3     7202016  40813543  2015-08-02     33671805        George   \n",
       "4     7202016  41986501  2015-08-10     34959538          Ming   \n",
       "\n",
       "                                            comments  \n",
       "0  Cute and cozy place. Perfect location to every...  \n",
       "1  Kelly has a great room in a very central locat...  \n",
       "2  Very spacious apartment, and in a great neighb...  \n",
       "3  Close to Seattle Center and all it has to offe...  \n",
       "4  Kelly was a great host and very accommodating ...  "
      ]
     },
     "execution_count": 7,
     "metadata": {},
     "output_type": "execute_result"
    }
   ],
   "source": [
    "rev.head()"
   ]
  },
  {
   "cell_type": "code",
   "execution_count": 8,
   "metadata": {},
   "outputs": [
    {
     "name": "stdout",
     "output_type": "stream",
     "text": [
      "<class 'pandas.core.frame.DataFrame'>\n",
      "RangeIndex: 84849 entries, 0 to 84848\n",
      "Data columns (total 6 columns):\n",
      "listing_id       84849 non-null int64\n",
      "id               84849 non-null int64\n",
      "date             84849 non-null object\n",
      "reviewer_id      84849 non-null int64\n",
      "reviewer_name    84849 non-null object\n",
      "comments         84831 non-null object\n",
      "dtypes: int64(3), object(3)\n",
      "memory usage: 3.9+ MB\n"
     ]
    }
   ],
   "source": [
    "rev.info()"
   ]
  },
  {
   "cell_type": "markdown",
   "metadata": {},
   "source": [
    "## Seasonal Pattern "
   ]
  },
  {
   "cell_type": "markdown",
   "metadata": {},
   "source": [
    "What is the seasonal pattern of Airbnb in Seattle?"
   ]
  },
  {
   "cell_type": "code",
   "execution_count": 9,
   "metadata": {},
   "outputs": [],
   "source": [
    "# import libraries to plot time series\n",
    "from datetime import datetime\n",
    "import matplotlib.dates as mdates\n",
    "from scipy.ndimage.filters import gaussian_filter1d"
   ]
  },
  {
   "cell_type": "code",
   "execution_count": 10,
   "metadata": {},
   "outputs": [],
   "source": [
    "def timeplot(data, feat, title):\n",
    "    \"\"\"\n",
    "    draw a smooth line for the time series of feature\n",
    "    \"\"\"\n",
    "    \n",
    "    plt.figure(figsize=(20,8))\n",
    "    \n",
    "    x = [datetime.strptime(date, '%Y-%m-%d') for date in data.index]\n",
    "    y = data[feat]\n",
    "    \n",
    "    # smooth y for visualization\n",
    "    y_smooth = gaussian_filter1d(y, sigma=5)\n",
    "    \n",
    "    # set x tick by month\n",
    "    plt.gca().xaxis.set_major_formatter(mdates.DateFormatter('%Y-%m-%d'))\n",
    "    plt.gca().xaxis.set_major_locator(mdates.MonthLocator())\n",
    "    \n",
    "    plt.title(title)\n",
    "    plt.plot(x, y_smooth, 'c-')\n",
    "    plt.show()"
   ]
  },
  {
   "cell_type": "markdown",
   "metadata": {},
   "source": [
    "### Seasonal Booking"
   ]
  },
  {
   "cell_type": "code",
   "execution_count": 11,
   "metadata": {},
   "outputs": [
    {
     "data": {
      "text/plain": [
       "t    934542\n",
       "f    459028\n",
       "Name: available, dtype: int64"
      ]
     },
     "execution_count": 11,
     "metadata": {},
     "output_type": "execute_result"
    }
   ],
   "source": [
    "cal['available'].value_counts()"
   ]
  },
  {
   "cell_type": "code",
   "execution_count": 12,
   "metadata": {},
   "outputs": [],
   "source": [
    "# convert 'available' into binary\n",
    "cal['available'] = cal['available'].map(lambda available: 1 if available == 't' else 0)"
   ]
  },
  {
   "cell_type": "code",
   "execution_count": 13,
   "metadata": {},
   "outputs": [
    {
     "data": {
      "text/plain": [
       "1    934542\n",
       "0    459028\n",
       "Name: available, dtype: int64"
      ]
     },
     "execution_count": 13,
     "metadata": {},
     "output_type": "execute_result"
    }
   ],
   "source": [
    "# check\n",
    "cal['available'].value_counts()"
   ]
  },
  {
   "cell_type": "code",
   "execution_count": 14,
   "metadata": {},
   "outputs": [],
   "source": [
    "ocp = cal[['date', 'available']].groupby('date').mean()\n",
    "ocp['occupancy'] = 1 - ocp['available']"
   ]
  },
  {
   "cell_type": "code",
   "execution_count": 15,
   "metadata": {},
   "outputs": [
    {
     "data": {
      "text/html": [
       "<div>\n",
       "<style scoped>\n",
       "    .dataframe tbody tr th:only-of-type {\n",
       "        vertical-align: middle;\n",
       "    }\n",
       "\n",
       "    .dataframe tbody tr th {\n",
       "        vertical-align: top;\n",
       "    }\n",
       "\n",
       "    .dataframe thead th {\n",
       "        text-align: right;\n",
       "    }\n",
       "</style>\n",
       "<table border=\"1\" class=\"dataframe\">\n",
       "  <thead>\n",
       "    <tr style=\"text-align: right;\">\n",
       "      <th></th>\n",
       "      <th>available</th>\n",
       "      <th>occupancy</th>\n",
       "    </tr>\n",
       "    <tr>\n",
       "      <th>date</th>\n",
       "      <th></th>\n",
       "      <th></th>\n",
       "    </tr>\n",
       "  </thead>\n",
       "  <tbody>\n",
       "    <tr>\n",
       "      <th>2016-01-04</th>\n",
       "      <td>0.454426</td>\n",
       "      <td>0.545574</td>\n",
       "    </tr>\n",
       "    <tr>\n",
       "      <th>2016-01-05</th>\n",
       "      <td>0.488999</td>\n",
       "      <td>0.511001</td>\n",
       "    </tr>\n",
       "    <tr>\n",
       "      <th>2016-01-06</th>\n",
       "      <td>0.478261</td>\n",
       "      <td>0.521739</td>\n",
       "    </tr>\n",
       "    <tr>\n",
       "      <th>2016-01-07</th>\n",
       "      <td>0.465165</td>\n",
       "      <td>0.534835</td>\n",
       "    </tr>\n",
       "    <tr>\n",
       "      <th>2016-01-08</th>\n",
       "      <td>0.466737</td>\n",
       "      <td>0.533263</td>\n",
       "    </tr>\n",
       "  </tbody>\n",
       "</table>\n",
       "</div>"
      ],
      "text/plain": [
       "            available  occupancy\n",
       "date                            \n",
       "2016-01-04   0.454426   0.545574\n",
       "2016-01-05   0.488999   0.511001\n",
       "2016-01-06   0.478261   0.521739\n",
       "2016-01-07   0.465165   0.534835\n",
       "2016-01-08   0.466737   0.533263"
      ]
     },
     "execution_count": 15,
     "metadata": {},
     "output_type": "execute_result"
    }
   ],
   "source": [
    "ocp.head()"
   ]
  },
  {
   "cell_type": "code",
   "execution_count": 16,
   "metadata": {},
   "outputs": [
    {
     "data": {
      "image/png": "[encoded data removed]",
      "text/plain": [
       "<Figure size 1440x576 with 1 Axes>"
      ]
     },
     "metadata": {
      "needs_background": "light"
     },
     "output_type": "display_data"
    }
   ],
   "source": [
    "timeplot(ocp, 'occupancy', 'Occupancy Rate by Date')"
   ]
  },
  {
   "cell_type": "markdown",
   "metadata": {},
   "source": [
    "The highest occupancy rate is in January 2016, and decreasing rapidly from 50% to 30% in 2 months. Then, it goes up slightly in the start of April and in the start of July separately. After that, it declines continuously.\n",
    "\n",
    "It seems that spring and summer are the busy season. The best weather in Seattle is from late June to early September. And, in fact, there is a peak during that time.\n",
    "\n",
    "However, it is weird to see the highest occupancy rate is in January 2016. It might be because any festivals. Or did the hotels change their price strategy to become more competitive? I don't know why."
   ]
  },
  {
   "cell_type": "markdown",
   "metadata": {},
   "source": [
    "### Seasonal Rental Price"
   ]
  },
  {
   "cell_type": "code",
   "execution_count": 17,
   "metadata": {},
   "outputs": [],
   "source": [
    "# convert 'price' into float\n",
    "cal['price'] = cal['price'].map(lambda price: float(price[1:].replace(',', '')), na_action='ignore')"
   ]
  },
  {
   "cell_type": "markdown",
   "metadata": {},
   "source": [
    "#### Median of Price"
   ]
  },
  {
   "cell_type": "code",
   "execution_count": 18,
   "metadata": {},
   "outputs": [],
   "source": [
    "pri_median = cal[['date', 'price']].groupby('date').median()"
   ]
  },
  {
   "cell_type": "code",
   "execution_count": 19,
   "metadata": {},
   "outputs": [
    {
     "data": {
      "image/png": "[encoded data removed]",
      "text/plain": [
       "<Figure size 1440x576 with 1 Axes>"
      ]
     },
     "metadata": {
      "needs_background": "light"
     },
     "output_type": "display_data"
    }
   ],
   "source": [
    "timeplot(pri_median, 'price', 'Median Price by Date')"
   ]
  },
  {
   "cell_type": "markdown",
   "metadata": {},
   "source": [
    "Obviously, the rental price are higher from May to September. In that time, Seattle usually have nice weather. It makes sense that rental price in Rainy Day is cheaper.\n",
    "\n",
    "In addition, the cheapest price is in in January 2016. It could be a reason for high occupancy, but I don't think it is enough to explain 50% occupancy rate in January."
   ]
  },
  {
   "cell_type": "markdown",
   "metadata": {},
   "source": [
    "#### Mean of Price"
   ]
  },
  {
   "cell_type": "markdown",
   "metadata": {},
   "source": [
    "I believe the median of price shows the pattern of price better than mean, but it is ok to take a look at the mean."
   ]
  },
  {
   "cell_type": "code",
   "execution_count": 20,
   "metadata": {},
   "outputs": [],
   "source": [
    "pri_mean = cal[['date', 'price']].groupby('date').mean()"
   ]
  },
  {
   "cell_type": "code",
   "execution_count": 21,
   "metadata": {},
   "outputs": [
    {
     "data": {
      "image/png": "[encoded data removed]",
      "text/plain": [
       "<Figure size 1440x576 with 1 Axes>"
      ]
     },
     "metadata": {
      "needs_background": "light"
     },
     "output_type": "display_data"
    }
   ],
   "source": [
    "timeplot(pri_mean, 'price', 'Mean Price by Date')"
   ]
  },
  {
   "cell_type": "markdown",
   "metadata": {},
   "source": [
    "It looks likes a little bit diffrence, but it still shows the same pattern."
   ]
  },
  {
   "cell_type": "markdown",
   "metadata": {},
   "source": [
    "## Popular Airbnb Homes"
   ]
  },
  {
   "cell_type": "code",
   "execution_count": 22,
   "metadata": {},
   "outputs": [],
   "source": [
    "ocp = cal[['listing_id', 'available']].groupby('listing_id').mean()\n",
    "ocp['occupancy'] = 1 - ocp['available']\n",
    "ocp.drop(['available'], axis = 1, inplace=True)\n",
    "ocp['id'] = ocp.index"
   ]
  },
  {
   "cell_type": "code",
   "execution_count": 23,
   "metadata": {},
   "outputs": [
    {
     "data": {
      "text/html": [
       "<div>\n",
       "<style scoped>\n",
       "    .dataframe tbody tr th:only-of-type {\n",
       "        vertical-align: middle;\n",
       "    }\n",
       "\n",
       "    .dataframe tbody tr th {\n",
       "        vertical-align: top;\n",
       "    }\n",
       "\n",
       "    .dataframe thead th {\n",
       "        text-align: right;\n",
       "    }\n",
       "</style>\n",
       "<table border=\"1\" class=\"dataframe\">\n",
       "  <thead>\n",
       "    <tr style=\"text-align: right;\">\n",
       "      <th></th>\n",
       "      <th>occupancy</th>\n",
       "      <th>id</th>\n",
       "    </tr>\n",
       "    <tr>\n",
       "      <th>listing_id</th>\n",
       "      <th></th>\n",
       "      <th></th>\n",
       "    </tr>\n",
       "  </thead>\n",
       "  <tbody>\n",
       "    <tr>\n",
       "      <th>3335</th>\n",
       "      <td>0.153425</td>\n",
       "      <td>3335</td>\n",
       "    </tr>\n",
       "    <tr>\n",
       "      <th>4291</th>\n",
       "      <td>0.000000</td>\n",
       "      <td>4291</td>\n",
       "    </tr>\n",
       "    <tr>\n",
       "      <th>5682</th>\n",
       "      <td>0.153425</td>\n",
       "      <td>5682</td>\n",
       "    </tr>\n",
       "    <tr>\n",
       "      <th>6606</th>\n",
       "      <td>0.000000</td>\n",
       "      <td>6606</td>\n",
       "    </tr>\n",
       "    <tr>\n",
       "      <th>7369</th>\n",
       "      <td>0.854795</td>\n",
       "      <td>7369</td>\n",
       "    </tr>\n",
       "  </tbody>\n",
       "</table>\n",
       "</div>"
      ],
      "text/plain": [
       "            occupancy    id\n",
       "listing_id                 \n",
       "3335         0.153425  3335\n",
       "4291         0.000000  4291\n",
       "5682         0.153425  5682\n",
       "6606         0.000000  6606\n",
       "7369         0.854795  7369"
      ]
     },
     "execution_count": 23,
     "metadata": {},
     "output_type": "execute_result"
    }
   ],
   "source": [
    "ocp.head()"
   ]
  },
  {
   "cell_type": "code",
   "execution_count": 24,
   "metadata": {},
   "outputs": [
    {
     "data": {
      "text/html": [
       "<div>\n",
       "<style scoped>\n",
       "    .dataframe tbody tr th:only-of-type {\n",
       "        vertical-align: middle;\n",
       "    }\n",
       "\n",
       "    .dataframe tbody tr th {\n",
       "        vertical-align: top;\n",
       "    }\n",
       "\n",
       "    .dataframe thead th {\n",
       "        text-align: right;\n",
       "    }\n",
       "</style>\n",
       "<table border=\"1\" class=\"dataframe\">\n",
       "  <thead>\n",
       "    <tr style=\"text-align: right;\">\n",
       "      <th></th>\n",
       "      <th>occupancy</th>\n",
       "      <th>id</th>\n",
       "    </tr>\n",
       "  </thead>\n",
       "  <tbody>\n",
       "    <tr>\n",
       "      <th>count</th>\n",
       "      <td>3818.000000</td>\n",
       "      <td>3.818000e+03</td>\n",
       "    </tr>\n",
       "    <tr>\n",
       "      <th>mean</th>\n",
       "      <td>0.329390</td>\n",
       "      <td>5.550111e+06</td>\n",
       "    </tr>\n",
       "    <tr>\n",
       "      <th>std</th>\n",
       "      <td>0.347322</td>\n",
       "      <td>2.962660e+06</td>\n",
       "    </tr>\n",
       "    <tr>\n",
       "      <th>min</th>\n",
       "      <td>0.000000</td>\n",
       "      <td>3.335000e+03</td>\n",
       "    </tr>\n",
       "    <tr>\n",
       "      <th>25%</th>\n",
       "      <td>0.013699</td>\n",
       "      <td>3.258256e+06</td>\n",
       "    </tr>\n",
       "    <tr>\n",
       "      <th>50%</th>\n",
       "      <td>0.156164</td>\n",
       "      <td>6.118244e+06</td>\n",
       "    </tr>\n",
       "    <tr>\n",
       "      <th>75%</th>\n",
       "      <td>0.660274</td>\n",
       "      <td>8.035127e+06</td>\n",
       "    </tr>\n",
       "    <tr>\n",
       "      <th>max</th>\n",
       "      <td>1.000000</td>\n",
       "      <td>1.034016e+07</td>\n",
       "    </tr>\n",
       "  </tbody>\n",
       "</table>\n",
       "</div>"
      ],
      "text/plain": [
       "         occupancy            id\n",
       "count  3818.000000  3.818000e+03\n",
       "mean      0.329390  5.550111e+06\n",
       "std       0.347322  2.962660e+06\n",
       "min       0.000000  3.335000e+03\n",
       "25%       0.013699  3.258256e+06\n",
       "50%       0.156164  6.118244e+06\n",
       "75%       0.660274  8.035127e+06\n",
       "max       1.000000  1.034016e+07"
      ]
     },
     "execution_count": 24,
     "metadata": {},
     "output_type": "execute_result"
    }
   ],
   "source": [
    "ocp.describe()"
   ]
  },
  {
   "cell_type": "code",
   "execution_count": 25,
   "metadata": {},
   "outputs": [
    {
     "data": {
      "image/png": "[encoded data removed]",
      "text/plain": [
       "<Figure size 576x432 with 1 Axes>"
      ]
     },
     "metadata": {
      "needs_background": "light"
     },
     "output_type": "display_data"
    }
   ],
   "source": [
    "plt.figure(figsize=(8,6))\n",
    "sns.distplot(ocp['occupancy'], color='c', kde=False)\n",
    "plt.show()"
   ]
  },
  {
   "cell_type": "markdown",
   "metadata": {},
   "source": [
    "Let's define the Airbnb rooms whose occupancy rates are greater than or qeual to 70% are popular. "
   ]
  },
  {
   "cell_type": "code",
   "execution_count": 26,
   "metadata": {},
   "outputs": [],
   "source": [
    "threshold = 0.70"
   ]
  },
  {
   "cell_type": "code",
   "execution_count": 27,
   "metadata": {},
   "outputs": [],
   "source": [
    "# join tables\n",
    "data = pd.merge(ocp, lst, how='inner', left_on='id', right_on='id')"
   ]
  },
  {
   "cell_type": "code",
   "execution_count": 28,
   "metadata": {},
   "outputs": [
    {
     "data": {
      "text/html": [
       "<div>\n",
       "<style scoped>\n",
       "    .dataframe tbody tr th:only-of-type {\n",
       "        vertical-align: middle;\n",
       "    }\n",
       "\n",
       "    .dataframe tbody tr th {\n",
       "        vertical-align: top;\n",
       "    }\n",
       "\n",
       "    .dataframe thead th {\n",
       "        text-align: right;\n",
       "    }\n",
       "</style>\n",
       "<table border=\"1\" class=\"dataframe\">\n",
       "  <thead>\n",
       "    <tr style=\"text-align: right;\">\n",
       "      <th></th>\n",
       "      <th>occupancy</th>\n",
       "      <th>id</th>\n",
       "      <th>listing_url</th>\n",
       "      <th>scrape_id</th>\n",
       "      <th>last_scraped</th>\n",
       "      <th>name</th>\n",
       "      <th>summary</th>\n",
       "      <th>space</th>\n",
       "      <th>description</th>\n",
       "      <th>experiences_offered</th>\n",
       "      <th>...</th>\n",
       "      <th>review_scores_value</th>\n",
       "      <th>requires_license</th>\n",
       "      <th>license</th>\n",
       "      <th>jurisdiction_names</th>\n",
       "      <th>instant_bookable</th>\n",
       "      <th>cancellation_policy</th>\n",
       "      <th>require_guest_profile_picture</th>\n",
       "      <th>require_guest_phone_verification</th>\n",
       "      <th>calculated_host_listings_count</th>\n",
       "      <th>reviews_per_month</th>\n",
       "    </tr>\n",
       "  </thead>\n",
       "  <tbody>\n",
       "    <tr>\n",
       "      <th>0</th>\n",
       "      <td>0.153425</td>\n",
       "      <td>3335</td>\n",
       "      <td>https://www.airbnb.com/rooms/3335</td>\n",
       "      <td>20160104002432</td>\n",
       "      <td>2016-01-04</td>\n",
       "      <td>Sweet Seattle Urban Homestead 2 Bdr</td>\n",
       "      <td>Welcome! If you stay here you will be living i...</td>\n",
       "      <td>Welcome!  Come enjoy your time in Seattle at a...</td>\n",
       "      <td>Welcome! If you stay here you will be living i...</td>\n",
       "      <td>none</td>\n",
       "      <td>...</td>\n",
       "      <td>NaN</td>\n",
       "      <td>f</td>\n",
       "      <td>NaN</td>\n",
       "      <td>WASHINGTON</td>\n",
       "      <td>f</td>\n",
       "      <td>strict</td>\n",
       "      <td>f</td>\n",
       "      <td>f</td>\n",
       "      <td>4</td>\n",
       "      <td>NaN</td>\n",
       "    </tr>\n",
       "    <tr>\n",
       "      <th>1</th>\n",
       "      <td>0.000000</td>\n",
       "      <td>4291</td>\n",
       "      <td>https://www.airbnb.com/rooms/4291</td>\n",
       "      <td>20160104002432</td>\n",
       "      <td>2016-01-04</td>\n",
       "      <td>Sunrise in Seattle Master Suite</td>\n",
       "      <td>NaN</td>\n",
       "      <td>Located in Seattle, this is a spacious, clean...</td>\n",
       "      <td>Located in Seattle, this is a spacious, clean...</td>\n",
       "      <td>none</td>\n",
       "      <td>...</td>\n",
       "      <td>9.0</td>\n",
       "      <td>f</td>\n",
       "      <td>NaN</td>\n",
       "      <td>WASHINGTON</td>\n",
       "      <td>f</td>\n",
       "      <td>moderate</td>\n",
       "      <td>f</td>\n",
       "      <td>f</td>\n",
       "      <td>5</td>\n",
       "      <td>1.14</td>\n",
       "    </tr>\n",
       "    <tr>\n",
       "      <th>2</th>\n",
       "      <td>0.153425</td>\n",
       "      <td>5682</td>\n",
       "      <td>https://www.airbnb.com/rooms/5682</td>\n",
       "      <td>20160104002432</td>\n",
       "      <td>2016-01-04</td>\n",
       "      <td>Cozy Studio, min. to downtown -WiFi</td>\n",
       "      <td>The Cozy Studio is a perfect launchpad for you...</td>\n",
       "      <td>Hello fellow travelers, Save some money and ha...</td>\n",
       "      <td>The Cozy Studio is a perfect launchpad for you...</td>\n",
       "      <td>none</td>\n",
       "      <td>...</td>\n",
       "      <td>10.0</td>\n",
       "      <td>f</td>\n",
       "      <td>NaN</td>\n",
       "      <td>WASHINGTON</td>\n",
       "      <td>t</td>\n",
       "      <td>strict</td>\n",
       "      <td>f</td>\n",
       "      <td>t</td>\n",
       "      <td>1</td>\n",
       "      <td>4.21</td>\n",
       "    </tr>\n",
       "    <tr>\n",
       "      <th>3</th>\n",
       "      <td>0.000000</td>\n",
       "      <td>6606</td>\n",
       "      <td>https://www.airbnb.com/rooms/6606</td>\n",
       "      <td>20160104002432</td>\n",
       "      <td>2016-01-04</td>\n",
       "      <td>Fab, private seattle urban cottage!</td>\n",
       "      <td>NaN</td>\n",
       "      <td>Soo centrally located, this is a little house ...</td>\n",
       "      <td>Soo centrally located, this is a little house ...</td>\n",
       "      <td>none</td>\n",
       "      <td>...</td>\n",
       "      <td>9.0</td>\n",
       "      <td>f</td>\n",
       "      <td>NaN</td>\n",
       "      <td>WASHINGTON</td>\n",
       "      <td>f</td>\n",
       "      <td>strict</td>\n",
       "      <td>f</td>\n",
       "      <td>f</td>\n",
       "      <td>1</td>\n",
       "      <td>0.66</td>\n",
       "    </tr>\n",
       "    <tr>\n",
       "      <th>4</th>\n",
       "      <td>0.854795</td>\n",
       "      <td>7369</td>\n",
       "      <td>https://www.airbnb.com/rooms/7369</td>\n",
       "      <td>20160104002432</td>\n",
       "      <td>2016-01-04</td>\n",
       "      <td>launchingpad/landingpad</td>\n",
       "      <td>contemporary condo on the western edge of pike...</td>\n",
       "      <td>spacious condo with all the amenities</td>\n",
       "      <td>contemporary condo on the western edge of pike...</td>\n",
       "      <td>none</td>\n",
       "      <td>...</td>\n",
       "      <td>9.0</td>\n",
       "      <td>f</td>\n",
       "      <td>NaN</td>\n",
       "      <td>WASHINGTON</td>\n",
       "      <td>f</td>\n",
       "      <td>flexible</td>\n",
       "      <td>f</td>\n",
       "      <td>f</td>\n",
       "      <td>1</td>\n",
       "      <td>0.50</td>\n",
       "    </tr>\n",
       "  </tbody>\n",
       "</table>\n",
       "<p>5 rows × 93 columns</p>\n",
       "</div>"
      ],
      "text/plain": [
       "   occupancy    id                        listing_url       scrape_id  \\\n",
       "0   0.153425  3335  https://www.airbnb.com/rooms/3335  20160104002432   \n",
       "1   0.000000  4291  https://www.airbnb.com/rooms/4291  20160104002432   \n",
       "2   0.153425  5682  https://www.airbnb.com/rooms/5682  20160104002432   \n",
       "3   0.000000  6606  https://www.airbnb.com/rooms/6606  20160104002432   \n",
       "4   0.854795  7369  https://www.airbnb.com/rooms/7369  20160104002432   \n",
       "\n",
       "  last_scraped                                 name  \\\n",
       "0   2016-01-04  Sweet Seattle Urban Homestead 2 Bdr   \n",
       "1   2016-01-04      Sunrise in Seattle Master Suite   \n",
       "2   2016-01-04  Cozy Studio, min. to downtown -WiFi   \n",
       "3   2016-01-04  Fab, private seattle urban cottage!   \n",
       "4   2016-01-04             launchingpad/landingpad    \n",
       "\n",
       "                                             summary  \\\n",
       "0  Welcome! If you stay here you will be living i...   \n",
       "1                                                NaN   \n",
       "2  The Cozy Studio is a perfect launchpad for you...   \n",
       "3                                                NaN   \n",
       "4  contemporary condo on the western edge of pike...   \n",
       "\n",
       "                                               space  \\\n",
       "0  Welcome!  Come enjoy your time in Seattle at a...   \n",
       "1   Located in Seattle, this is a spacious, clean...   \n",
       "2  Hello fellow travelers, Save some money and ha...   \n",
       "3  Soo centrally located, this is a little house ...   \n",
       "4              spacious condo with all the amenities   \n",
       "\n",
       "                                         description experiences_offered  ...  \\\n",
       "0  Welcome! If you stay here you will be living i...                none  ...   \n",
       "1   Located in Seattle, this is a spacious, clean...                none  ...   \n",
       "2  The Cozy Studio is a perfect launchpad for you...                none  ...   \n",
       "3  Soo centrally located, this is a little house ...                none  ...   \n",
       "4  contemporary condo on the western edge of pike...                none  ...   \n",
       "\n",
       "  review_scores_value requires_license license jurisdiction_names  \\\n",
       "0                 NaN                f     NaN         WASHINGTON   \n",
       "1                 9.0                f     NaN         WASHINGTON   \n",
       "2                10.0                f     NaN         WASHINGTON   \n",
       "3                 9.0                f     NaN         WASHINGTON   \n",
       "4                 9.0                f     NaN         WASHINGTON   \n",
       "\n",
       "  instant_bookable cancellation_policy require_guest_profile_picture  \\\n",
       "0                f              strict                             f   \n",
       "1                f            moderate                             f   \n",
       "2                t              strict                             f   \n",
       "3                f              strict                             f   \n",
       "4                f            flexible                             f   \n",
       "\n",
       "   require_guest_phone_verification calculated_host_listings_count  \\\n",
       "0                                 f                              4   \n",
       "1                                 f                              5   \n",
       "2                                 t                              1   \n",
       "3                                 f                              1   \n",
       "4                                 f                              1   \n",
       "\n",
       "  reviews_per_month  \n",
       "0               NaN  \n",
       "1              1.14  \n",
       "2              4.21  \n",
       "3              0.66  \n",
       "4              0.50  \n",
       "\n",
       "[5 rows x 93 columns]"
      ]
     },
     "execution_count": 28,
     "metadata": {},
     "output_type": "execute_result"
    }
   ],
   "source": [
    "data.head()"
   ]
  },
  {
   "cell_type": "code",
   "execution_count": 29,
   "metadata": {},
   "outputs": [],
   "source": [
    "def comparePlot(feat):\n",
    "    \"\"\"\n",
    "    draw a plot to compare feature of popular and unpopular homes\n",
    "    \"\"\"\n",
    "    \n",
    "    plt.figure(figsize=(8,6))\n",
    "        \n",
    "    # if not float, draw bar plot\n",
    "    if data[feat].dtype != np.float:\n",
    "        # build a tempary DataFrame for using seaborn easily\n",
    "        # includes 3 columns: occupancy, popularity and index\n",
    "        cnt_popular = data[data['occupancy'] >= threshold][feat].value_counts()\n",
    "        cnt_unpopular = data[data['occupancy'] < threshold][feat].value_counts()\n",
    "        fre_popular = pd.DataFrame(cnt_popular / sum(cnt_popular))\n",
    "        fre_popular['popularity'] = 'Popular'\n",
    "        fre_popular['index'] = fre_popular.index\n",
    "        fre_unpopular = pd.DataFrame(cnt_unpopular / sum(cnt_unpopular))\n",
    "        fre_unpopular['popularity'] = 'Unpopular'\n",
    "        fre_unpopular['index'] = fre_unpopular.index\n",
    "        \n",
    "        plot_data = pd.concat([fre_popular, fre_unpopular], ignore_index=True)\n",
    "        sns.barplot(x='index', y=feat, hue='popularity', data=plot_data, palette='GnBu')\n",
    "        plt.xticks(rotation='vertical')\n",
    "        plt.legend(loc=1)\n",
    "    \n",
    "    # if float, draw kde line\n",
    "    else:\n",
    "        sns.kdeplot(data[feat][data['occupancy'] >= threshold], color='m')\n",
    "        sns.kdeplot(data[feat][data['occupancy'] < threshold], color='c')\n",
    "        plt.legend(['Popular', 'Unpopular'], loc=1)\n",
    "    \n",
    "    plt.xlabel(feat)\n",
    "    plt.ylabel('Frequency')\n",
    "    \n",
    "    plt.show()"
   ]
  },
  {
   "cell_type": "code",
   "execution_count": 30,
   "metadata": {},
   "outputs": [
    {
     "data": {
      "image/png": "[encoded data removed]",
      "text/plain": [
       "<Figure size 576x432 with 1 Axes>"
      ]
     },
     "metadata": {
      "needs_background": "light"
     },
     "output_type": "display_data"
    }
   ],
   "source": [
    "# price\n",
    "data['price'] = data['price'].map(lambda price: float(price[1:].replace(',', '')), na_action='ignore')\n",
    "comparePlot('price')"
   ]
  },
  {
   "cell_type": "markdown",
   "metadata": {},
   "source": [
    "In general, the popular rooms have slightly cheaper price. It is commonsense that people always want to pay less."
   ]
  },
  {
   "cell_type": "code",
   "execution_count": 31,
   "metadata": {},
   "outputs": [
    {
     "data": {
      "image/png": "[encoded data removed]",
      "text/plain": [
       "<Figure size 576x432 with 1 Axes>"
      ]
     },
     "metadata": {
      "needs_background": "light"
     },
     "output_type": "display_data"
    }
   ],
   "source": [
    "# host response time\n",
    "comparePlot('host_response_time')"
   ]
  },
  {
   "cell_type": "markdown",
   "metadata": {},
   "source": [
    "If host can respond sooner, they will have more chance to rent."
   ]
  },
  {
   "cell_type": "code",
   "execution_count": 32,
   "metadata": {},
   "outputs": [
    {
     "data": {
      "image/png": "[encoded data removed]",
      "text/plain": [
       "<Figure size 576x432 with 1 Axes>"
      ]
     },
     "metadata": {
      "needs_background": "light"
     },
     "output_type": "display_data"
    }
   ],
   "source": [
    "# property type\n",
    "comparePlot('property_type')"
   ]
  },
  {
   "cell_type": "markdown",
   "metadata": {},
   "source": [
    "We can see that houses are more unpopular."
   ]
  },
  {
   "cell_type": "code",
   "execution_count": 33,
   "metadata": {},
   "outputs": [
    {
     "data": {
      "image/png": "[encoded data removed]",
      "text/plain": [
       "<Figure size 576x432 with 1 Axes>"
      ]
     },
     "metadata": {
      "needs_background": "light"
     },
     "output_type": "display_data"
    }
   ],
   "source": [
    "# neighbourhood\n",
    "comparePlot('neighbourhood_group_cleansed')"
   ]
  },
  {
   "cell_type": "markdown",
   "metadata": {},
   "source": [
    "Capital Hill is very popular.\n",
    "\n",
    "Wikipedia says:\n",
    "\n",
    "> Capitol Hill is a densely populated, residential district in Seattle, Washington, United States. It is one of the city's most prominent nightlife and entertainment districts and is the center of the city's LGBT and counterculture communities.\n",
    "\n",
    "There is an interesting thing that Ballard is significantly unpopular."
   ]
  },
  {
   "cell_type": "code",
   "execution_count": 34,
   "metadata": {},
   "outputs": [
    {
     "data": {
      "image/png": "[encoded data removed]",
      "text/plain": [
       "<Figure size 576x432 with 1 Axes>"
      ]
     },
     "metadata": {
      "needs_background": "light"
     },
     "output_type": "display_data"
    }
   ],
   "source": [
    "# booking\n",
    "comparePlot('instant_bookable')"
   ]
  },
  {
   "cell_type": "markdown",
   "metadata": {},
   "source": [
    "Whether the rooms can be booked instantly does not matter."
   ]
  },
  {
   "cell_type": "code",
   "execution_count": 35,
   "metadata": {},
   "outputs": [
    {
     "data": {
      "image/png": "[encoded data removed]",
      "text/plain": [
       "<Figure size 576x432 with 1 Axes>"
      ]
     },
     "metadata": {
      "needs_background": "light"
     },
     "output_type": "display_data"
    }
   ],
   "source": [
    "# cancellation policy\n",
    "comparePlot('cancellation_policy')"
   ]
  },
  {
   "cell_type": "markdown",
   "metadata": {},
   "source": [
    "More felxiable cancellation policy, more popular."
   ]
  },
  {
   "cell_type": "markdown",
   "metadata": {},
   "source": [
    "## Influencial Features"
   ]
  },
  {
   "cell_type": "markdown",
   "metadata": {},
   "source": [
    "### Data Processing "
   ]
  },
  {
   "cell_type": "code",
   "execution_count": 36,
   "metadata": {},
   "outputs": [
    {
     "data": {
      "text/plain": [
       "Index(['id', 'listing_url', 'scrape_id', 'last_scraped', 'name', 'summary',\n",
       "       'space', 'description', 'experiences_offered', 'neighborhood_overview',\n",
       "       'notes', 'transit', 'thumbnail_url', 'medium_url', 'picture_url',\n",
       "       'xl_picture_url', 'host_id', 'host_url', 'host_name', 'host_since',\n",
       "       'host_location', 'host_about', 'host_response_time',\n",
       "       'host_response_rate', 'host_acceptance_rate', 'host_is_superhost',\n",
       "       'host_thumbnail_url', 'host_picture_url', 'host_neighbourhood',\n",
       "       'host_listings_count', 'host_total_listings_count',\n",
       "       'host_verifications', 'host_has_profile_pic', 'host_identity_verified',\n",
       "       'street', 'neighbourhood', 'neighbourhood_cleansed',\n",
       "       'neighbourhood_group_cleansed', 'city', 'state', 'zipcode', 'market',\n",
       "       'smart_location', 'country_code', 'country', 'latitude', 'longitude',\n",
       "       'is_location_exact', 'property_type', 'room_type', 'accommodates',\n",
       "       'bathrooms', 'bedrooms', 'beds', 'bed_type', 'amenities', 'square_feet',\n",
       "       'price', 'weekly_price', 'monthly_price', 'security_deposit',\n",
       "       'cleaning_fee', 'guests_included', 'extra_people', 'minimum_nights',\n",
       "       'maximum_nights', 'calendar_updated', 'has_availability',\n",
       "       'availability_30', 'availability_60', 'availability_90',\n",
       "       'availability_365', 'calendar_last_scraped', 'number_of_reviews',\n",
       "       'first_review', 'last_review', 'review_scores_rating',\n",
       "       'review_scores_accuracy', 'review_scores_cleanliness',\n",
       "       'review_scores_checkin', 'review_scores_communication',\n",
       "       'review_scores_location', 'review_scores_value', 'requires_license',\n",
       "       'license', 'jurisdiction_names', 'instant_bookable',\n",
       "       'cancellation_policy', 'require_guest_profile_picture',\n",
       "       'require_guest_phone_verification', 'calculated_host_listings_count',\n",
       "       'reviews_per_month'],\n",
       "      dtype='object')"
      ]
     },
     "execution_count": 36,
     "metadata": {},
     "output_type": "execute_result"
    }
   ],
   "source": [
    "lst.columns"
   ]
  },
  {
   "cell_type": "markdown",
   "metadata": {},
   "source": [
    "#### Step 01: Dropping Useless Features"
   ]
  },
  {
   "cell_type": "markdown",
   "metadata": {},
   "source": [
    "There are some kinds of useless data:\n",
    "\n",
    "- not informative: id, url, name...\n",
    "- although informative, but hard to deal with: text, latitude, longitude...\n",
    "- values are identical: city, state...\n",
    "- values are redundent: listing count, avaliability...\n",
    "- not inner features: price, reveiw...\n",
    "\n",
    "Just drop all of them"
   ]
  },
  {
   "cell_type": "code",
   "execution_count": 37,
   "metadata": {},
   "outputs": [],
   "source": [
    "def drop(data, feat):\n",
    "    \"\"\"\n",
    "    drop feature from data\n",
    "    \"\"\"\n",
    "    new_data = data.drop(feat, axis=1)\n",
    "    print('Dropping {}...'.format(feat))\n",
    "    return new_data"
   ]
  },
  {
   "cell_type": "code",
   "execution_count": 38,
   "metadata": {},
   "outputs": [
    {
     "name": "stdout",
     "output_type": "stream",
     "text": [
      "Dropping id...\n",
      "Dropping scrape_id...\n",
      "Dropping host_id...\n",
      "Dropping host_verifications...\n",
      "Dropping listing_url...\n",
      "Dropping name...\n",
      "Dropping thumbnail_url...\n",
      "Dropping medium_url...\n",
      "Dropping picture_url...\n",
      "Dropping xl_picture_url...\n",
      "Dropping host_url...\n",
      "Dropping host_name...\n",
      "Dropping host_thumbnail_url...\n",
      "Dropping host_picture_url...\n",
      "Dropping jurisdiction_names...\n"
     ]
    }
   ],
   "source": [
    "# drop id\n",
    "data_clean = drop(lst, 'id')\n",
    "data_clean = drop(data_clean, 'scrape_id')\n",
    "data_clean = drop(data_clean, 'host_id')\n",
    "data_clean = drop(data_clean, 'host_verifications') \n",
    "\n",
    "for feat in data.columns:\n",
    "    # drop url\n",
    "    if 'url' in feat:\n",
    "        data_clean = drop(data_clean, feat)\n",
    "    # drop name\n",
    "    if 'name' in feat:\n",
    "        data_clean = drop(data_clean, feat)"
   ]
  },
  {
   "cell_type": "code",
   "execution_count": 39,
   "metadata": {},
   "outputs": [
    {
     "name": "stdout",
     "output_type": "stream",
     "text": [
      "Dropping summary...\n",
      "Dropping space...\n",
      "Dropping description...\n",
      "Dropping neighborhood_overview...\n",
      "Dropping notes...\n",
      "Dropping transit...\n",
      "Dropping host_about...\n"
     ]
    }
   ],
   "source": [
    "# drop texts\n",
    "data_clean = drop(data_clean, 'summary')\n",
    "data_clean = drop(data_clean, 'space')\n",
    "data_clean = drop(data_clean, 'description')\n",
    "data_clean = drop(data_clean, 'neighborhood_overview')\n",
    "data_clean = drop(data_clean, 'notes')\n",
    "data_clean = drop(data_clean, 'transit')\n",
    "data_clean = drop(data_clean, 'host_about')"
   ]
  },
  {
   "cell_type": "code",
   "execution_count": 40,
   "metadata": {},
   "outputs": [
    {
     "name": "stdout",
     "output_type": "stream",
     "text": [
      "Dropping last_scraped...\n",
      "Dropping experiences_offered...\n",
      "Dropping market...\n",
      "Dropping country_code...\n",
      "Dropping country...\n",
      "Dropping has_availability...\n",
      "Dropping calendar_last_scraped...\n",
      "Dropping requires_license...\n",
      "Dropping license...\n"
     ]
    }
   ],
   "source": [
    "# drop identical features\n",
    "for feat in data_clean.columns:\n",
    "    if len(data_clean[feat].value_counts()) <= 1:\n",
    "        data_clean = drop(data_clean, feat)"
   ]
  },
  {
   "cell_type": "code",
   "execution_count": 41,
   "metadata": {},
   "outputs": [
    {
     "data": {
      "text/plain": [
       "Seattle                  3810\n",
       "Seattle                     2\n",
       "West Seattle                2\n",
       "Ballard, Seattle            1\n",
       "seattle                     1\n",
       "西雅图                         1\n",
       "Phinney Ridge Seattle       1\n",
       "Name: city, dtype: int64"
      ]
     },
     "execution_count": 41,
     "metadata": {},
     "output_type": "execute_result"
    }
   ],
   "source": [
    "data_clean['city'].value_counts()"
   ]
  },
  {
   "cell_type": "code",
   "execution_count": 42,
   "metadata": {},
   "outputs": [
    {
     "data": {
      "text/plain": [
       "WA    3817\n",
       "wa       1\n",
       "Name: state, dtype: int64"
      ]
     },
     "execution_count": 42,
     "metadata": {},
     "output_type": "execute_result"
    }
   ],
   "source": [
    "data_clean['state'].value_counts()"
   ]
  },
  {
   "cell_type": "code",
   "execution_count": 43,
   "metadata": {},
   "outputs": [
    {
     "data": {
      "text/plain": [
       "Seattle, WA                  3810\n",
       "Seattle , WA                    2\n",
       "West Seattle, WA                2\n",
       "seattle, wa                     1\n",
       "Phinney Ridge Seattle, WA       1\n",
       "西雅图, WA                         1\n",
       "Ballard, Seattle, WA            1\n",
       "Name: smart_location, dtype: int64"
      ]
     },
     "execution_count": 43,
     "metadata": {},
     "output_type": "execute_result"
    }
   ],
   "source": [
    "data_clean['smart_location'].value_counts()"
   ]
  },
  {
   "cell_type": "markdown",
   "metadata": {},
   "source": [
    "We can see that all of them are in Seattle, WA"
   ]
  },
  {
   "cell_type": "code",
   "execution_count": 44,
   "metadata": {},
   "outputs": [
    {
     "name": "stdout",
     "output_type": "stream",
     "text": [
      "Dropping city...\n",
      "Dropping state...\n",
      "Dropping smart_location...\n"
     ]
    }
   ],
   "source": [
    "# drop identical features\n",
    "data_clean = drop(data_clean, 'city')\n",
    "data_clean = drop(data_clean, 'state')\n",
    "data_clean = drop(data_clean, 'smart_location')"
   ]
  },
  {
   "cell_type": "code",
   "execution_count": 45,
   "metadata": {},
   "outputs": [
    {
     "name": "stdout",
     "output_type": "stream",
     "text": [
      "Dropping street...\n",
      "Dropping neighbourhood...\n",
      "Dropping neighbourhood_cleansed...\n",
      "Dropping zipcode...\n",
      "Dropping latitude...\n",
      "Dropping longitude...\n"
     ]
    }
   ],
   "source": [
    "# only need 'neighbourhood_group_cleansed' as feature of home location\n",
    "data_clean = drop(data_clean, 'street')\n",
    "data_clean = drop(data_clean, 'neighbourhood')\n",
    "data_clean = drop(data_clean, 'neighbourhood_cleansed')\n",
    "data_clean = drop(data_clean, 'zipcode')\n",
    "data_clean = drop(data_clean, 'latitude')\n",
    "data_clean = drop(data_clean, 'longitude')"
   ]
  },
  {
   "cell_type": "code",
   "execution_count": 46,
   "metadata": {},
   "outputs": [
    {
     "name": "stdout",
     "output_type": "stream",
     "text": [
      "Dropping weekly_price...\n",
      "Dropping monthly_price...\n",
      "Dropping security_deposit...\n",
      "Dropping cleaning_fee...\n",
      "Dropping extra_people...\n"
     ]
    }
   ],
   "source": [
    "# for price, only keep price as label\n",
    "data_clean = drop(data_clean, 'weekly_price')\n",
    "data_clean = drop(data_clean, 'monthly_price')\n",
    "data_clean = drop(data_clean, 'security_deposit')\n",
    "data_clean = drop(data_clean, 'cleaning_fee')\n",
    "data_clean = drop(data_clean, 'extra_people')"
   ]
  },
  {
   "cell_type": "code",
   "execution_count": 47,
   "metadata": {},
   "outputs": [
    {
     "name": "stdout",
     "output_type": "stream",
     "text": [
      "Dropping number_of_reviews...\n",
      "Dropping first_review...\n",
      "Dropping last_review...\n",
      "Dropping review_scores_rating...\n",
      "Dropping review_scores_accuracy...\n",
      "Dropping review_scores_cleanliness...\n",
      "Dropping review_scores_checkin...\n",
      "Dropping review_scores_communication...\n",
      "Dropping review_scores_location...\n",
      "Dropping review_scores_value...\n",
      "Dropping reviews_per_month...\n"
     ]
    }
   ],
   "source": [
    "# drop all reviews\n",
    "for feat in data_clean.columns:\n",
    "    # drop url\n",
    "    if 'review' in feat:\n",
    "        data_clean = drop(data_clean, feat)"
   ]
  },
  {
   "cell_type": "code",
   "execution_count": 48,
   "metadata": {},
   "outputs": [
    {
     "name": "stdout",
     "output_type": "stream",
     "text": [
      "Dropping host_listings_count...\n",
      "Dropping host_total_listings_count...\n"
     ]
    }
   ],
   "source": [
    "# for listing count, only keep the calculated one\n",
    "data_clean = drop(data_clean, 'host_listings_count')\n",
    "data_clean = drop(data_clean, 'host_total_listings_count')"
   ]
  },
  {
   "cell_type": "code",
   "execution_count": 49,
   "metadata": {},
   "outputs": [
    {
     "name": "stdout",
     "output_type": "stream",
     "text": [
      "Dropping availability_30...\n",
      "Dropping availability_60...\n",
      "Dropping availability_90...\n"
     ]
    }
   ],
   "source": [
    "# keep only anual avaliability\n",
    "data_clean = drop(data_clean, 'availability_30')\n",
    "data_clean = drop(data_clean, 'availability_60')\n",
    "data_clean = drop(data_clean, 'availability_90')"
   ]
  },
  {
   "cell_type": "markdown",
   "metadata": {},
   "source": [
    "#### Step 02: Assess Missing Data"
   ]
  },
  {
   "cell_type": "code",
   "execution_count": 50,
   "metadata": {},
   "outputs": [],
   "source": [
    "# investigate missing data in columns\n",
    "NaN_rate_col = data_clean.isnull().sum().sort_values(ascending=False) / len(data_clean)"
   ]
  },
  {
   "cell_type": "code",
   "execution_count": 51,
   "metadata": {},
   "outputs": [
    {
     "data": {
      "image/png": "[encoded data removed]",
      "text/plain": [
       "<Figure size 720x2160 with 1 Axes>"
      ]
     },
     "metadata": {
      "needs_background": "light"
     },
     "output_type": "display_data"
    }
   ],
   "source": [
    "x = range(len(NaN_rate_col[NaN_rate_col != 0]))\n",
    "y = NaN_rate_col[NaN_rate_col != 0]\n",
    "\n",
    "plt.figure(figsize=(10,30))\n",
    "ax = plt.subplot()\n",
    "\n",
    "plt.gca().invert_yaxis()\n",
    "ax.set_yticks(range(len(NaN_rate_col)))\n",
    "ax.set_yticklabels(NaN_rate_col.index)\n",
    "\n",
    "plt.barh(x, y, color='c')\n",
    "plt.show()"
   ]
  },
  {
   "cell_type": "code",
   "execution_count": 52,
   "metadata": {},
   "outputs": [
    {
     "data": {
      "text/plain": [
       "0"
      ]
     },
     "execution_count": 52,
     "metadata": {},
     "output_type": "execute_result"
    }
   ],
   "source": [
    "# no missing label here\n",
    "data_clean['price'].isnull().sum()"
   ]
  },
  {
   "cell_type": "markdown",
   "metadata": {},
   "source": [
    "There is no missing on the label 'price'"
   ]
  },
  {
   "cell_type": "code",
   "execution_count": 53,
   "metadata": {},
   "outputs": [
    {
     "name": "stdout",
     "output_type": "stream",
     "text": [
      "Dropping square_feet...\n"
     ]
    }
   ],
   "source": [
    "# drop the feature whose missing portion are greater than 50%\n",
    "for feat in NaN_rate_col.index:\n",
    "    if NaN_rate_col[feat] > 0.5:\n",
    "        data_clean = drop(data_clean, feat)"
   ]
  },
  {
   "cell_type": "markdown",
   "metadata": {},
   "source": [
    "Drop square_feet because most of them are misssing"
   ]
  },
  {
   "cell_type": "code",
   "execution_count": 54,
   "metadata": {},
   "outputs": [
    {
     "name": "stdout",
     "output_type": "stream",
     "text": [
      "73.36% rows have no missing data.\n",
      "85.12% rows have less than 1 missing data.\n",
      "86.64% rows have less than 2 missing data.\n",
      "98.59% rows have less than 3 missing data.\n",
      "99.95% rows have less than 4 missing data.\n",
      "99.95% rows have less than 5 missing data.\n",
      "99.95% rows have less than 6 missing data.\n",
      "99.95% rows have less than 7 missing data.\n",
      "99.95% rows have less than 8 missing data.\n",
      "100.00% rows have less than 9 missing data.\n",
      "100.00% rows have less than 10 missing data.\n"
     ]
    }
   ],
   "source": [
    "# investigate missing data in rows\n",
    "data_clean['Missing_num'] = data_clean.isnull().sum(axis=1)\n",
    "print('{:.2f}% rows have no missing data.'.format(len(data_clean[data_clean['Missing_num']==0]) / len(data_clean) * 100))\n",
    "print('{:.2f}% rows have less than 1 missing data.'.format(len(data_clean[data_clean['Missing_num']<=1]) / len(data_clean) * 100))\n",
    "print('{:.2f}% rows have less than 2 missing data.'.format(len(data_clean[data_clean['Missing_num']<=2]) / len(data_clean) * 100))\n",
    "print('{:.2f}% rows have less than 3 missing data.'.format(len(data_clean[data_clean['Missing_num']<=3]) / len(data_clean) * 100))\n",
    "print('{:.2f}% rows have less than 4 missing data.'.format(len(data_clean[data_clean['Missing_num']<=4]) / len(data_clean) * 100))\n",
    "print('{:.2f}% rows have less than 5 missing data.'.format(len(data_clean[data_clean['Missing_num']<=5]) / len(data_clean) * 100))\n",
    "print('{:.2f}% rows have less than 6 missing data.'.format(len(data_clean[data_clean['Missing_num']<=6]) / len(data_clean) * 100))\n",
    "print('{:.2f}% rows have less than 7 missing data.'.format(len(data_clean[data_clean['Missing_num']<=7]) / len(data_clean) * 100))\n",
    "print('{:.2f}% rows have less than 8 missing data.'.format(len(data_clean[data_clean['Missing_num']<=8]) / len(data_clean) * 100))\n",
    "print('{:.2f}% rows have less than 9 missing data.'.format(len(data_clean[data_clean['Missing_num']<=9]) / len(data_clean) * 100))\n",
    "print('{:.2f}% rows have less than 10 missing data.'.format(len(data_clean[data_clean['Missing_num']<=10]) / len(data_clean) * 100))"
   ]
  },
  {
   "cell_type": "code",
   "execution_count": 55,
   "metadata": {},
   "outputs": [
    {
     "data": {
      "image/png": "[encoded data removed]",
      "text/plain": [
       "<Figure size 1152x576 with 1 Axes>"
      ]
     },
     "metadata": {
      "needs_background": "light"
     },
     "output_type": "display_data"
    }
   ],
   "source": [
    "# show the distibution of missing data on row\n",
    "plt.figure(figsize=(16,8))\n",
    "plt.xticks(range(50))\n",
    "data_clean['Missing_num'].plot.hist(color='g', alpha=0.5, bins=50)\n",
    "plt.show()"
   ]
  },
  {
   "cell_type": "code",
   "execution_count": 56,
   "metadata": {},
   "outputs": [
    {
     "data": {
      "text/plain": [
       "2"
      ]
     },
     "execution_count": 56,
     "metadata": {},
     "output_type": "execute_result"
    }
   ],
   "source": [
    "# how many rows have 9 misssing values\n",
    "len(data_clean[data_clean['Missing_num']==9])"
   ]
  },
  {
   "cell_type": "markdown",
   "metadata": {},
   "source": [
    "99.95% rows have less than 4 missing data, and other 00.05% (only 2 rows) have 9 missing values"
   ]
  },
  {
   "cell_type": "code",
   "execution_count": 57,
   "metadata": {},
   "outputs": [],
   "source": [
    "# drop rows has more than 4 missing values (the 2 rows with 9 missing values)\n",
    "missing_threshold = 4\n",
    "data_clean = data_clean[data_clean['Missing_num']<=missing_threshold].drop('Missing_num', axis = 1)"
   ]
  },
  {
   "cell_type": "markdown",
   "metadata": {},
   "source": [
    "#### Step 03: Re-Encode Features"
   ]
  },
  {
   "cell_type": "code",
   "execution_count": 58,
   "metadata": {},
   "outputs": [],
   "source": [
    "# convert continous data from str into float\n",
    "data_clean['price'] = data_clean['price'].map(lambda price: float(price[1:].replace(',', '')), na_action='ignore')\n",
    "data_clean['host_response_rate'] = data_clean['host_response_rate'].map(lambda rate: np.float(rate[:-1]) / 100, na_action='ignore')\n",
    "data_clean['host_acceptance_rate'] = data_clean['host_acceptance_rate'].map(lambda rate: np.float(rate[:-1]) / 100, na_action='ignore')"
   ]
  },
  {
   "cell_type": "code",
   "execution_count": 59,
   "metadata": {},
   "outputs": [
    {
     "data": {
      "image/png": "[encoded data removed]",
      "text/plain": [
       "<Figure size 1440x1440 with 2 Axes>"
      ]
     },
     "metadata": {
      "needs_background": "light"
     },
     "output_type": "display_data"
    }
   ],
   "source": [
    "plt.figure(figsize=(20,20))\n",
    "sns.heatmap(data_clean.corr())\n",
    "plt.show()"
   ]
  },
  {
   "cell_type": "code",
   "execution_count": 60,
   "metadata": {},
   "outputs": [],
   "source": [
    "def oneHot(feat, data):\n",
    "    \"\"\"\n",
    "    encode an categorical data as one-hot\n",
    "    \"\"\"\n",
    "    print('Ecoding {} as one-hot..'.format(feat))\n",
    "    cur_dummies = pd.get_dummies(data[feat], prefix=feat)\n",
    "    data.drop(feat, axis=1, inplace=True)\n",
    "    data = pd.concat([data, cur_dummies], axis=1)\n",
    "    return data"
   ]
  },
  {
   "cell_type": "code",
   "execution_count": 61,
   "metadata": {},
   "outputs": [
    {
     "name": "stdout",
     "output_type": "stream",
     "text": [
      "Ecoding host_response_time as one-hot..\n",
      "host_response_rate is a continous varibale\n",
      "host_acceptance_rate is a continous varibale\n",
      "Ecoding host_is_superhost as one-hot..\n",
      "Ecoding host_has_profile_pic as one-hot..\n",
      "Ecoding host_identity_verified as one-hot..\n",
      "Ecoding is_location_exact as one-hot..\n",
      "Ecoding room_type as one-hot..\n",
      "bathrooms is a continous varibale\n",
      "bedrooms is a continous varibale\n",
      "beds is a continous varibale\n",
      "Ecoding bed_type as one-hot..\n",
      "price is a continous varibale\n",
      "Ecoding instant_bookable as one-hot..\n",
      "Ecoding cancellation_policy as one-hot..\n",
      "Ecoding require_guest_profile_picture as one-hot..\n",
      "Ecoding require_guest_phone_verification as one-hot..\n"
     ]
    }
   ],
   "source": [
    "feats = []\n",
    "conts = []\n",
    "for feat in data_clean.columns:\n",
    "    if data_clean[feat].dtype == np.float:\n",
    "        print('{} is a continous varibale'.format(feat))\n",
    "        # take a look which columns are float\n",
    "        conts.append(feat)\n",
    "    elif len(data_clean[feat].value_counts()) <= 5:\n",
    "        # for categorical variables with small categories, encode them as one hot\n",
    "        data_clean = oneHot(feat, data_clean)\n",
    "    else:\n",
    "        # if categorical variables have many distinct values, we should be more careful\n",
    "        feats.append(feat)"
   ]
  },
  {
   "cell_type": "code",
   "execution_count": 62,
   "metadata": {},
   "outputs": [
    {
     "name": "stdout",
     "output_type": "stream",
     "text": [
      "['host_response_rate', 'host_acceptance_rate', 'bathrooms', 'bedrooms', 'beds', 'price']\n"
     ]
    }
   ],
   "source": [
    "# there are some continouns variables\n",
    "print(conts)"
   ]
  },
  {
   "cell_type": "code",
   "execution_count": 63,
   "metadata": {},
   "outputs": [
    {
     "name": "stdout",
     "output_type": "stream",
     "text": [
      "['host_since', 'host_location', 'host_neighbourhood', 'neighbourhood_group_cleansed', 'property_type', 'accommodates', 'amenities', 'guests_included', 'minimum_nights', 'maximum_nights', 'calendar_updated', 'availability_365', 'calculated_host_listings_count']\n"
     ]
    }
   ],
   "source": [
    "# there are some variables we should pay more attention on\n",
    "print(feats)"
   ]
  },
  {
   "cell_type": "code",
   "execution_count": 64,
   "metadata": {},
   "outputs": [
    {
     "data": {
      "text/plain": [
       "0    2011-08-11\n",
       "1    2013-02-21\n",
       "2    2014-06-12\n",
       "3    2013-11-06\n",
       "4    2011-11-29\n",
       "Name: host_since, dtype: object"
      ]
     },
     "execution_count": 64,
     "metadata": {},
     "output_type": "execute_result"
    }
   ],
   "source": [
    "data_clean['host_since'].head()"
   ]
  },
  {
   "cell_type": "code",
   "execution_count": 65,
   "metadata": {},
   "outputs": [],
   "source": [
    "data_clean['host_since'] = data_clean['host_since'].map(lambda date: 2015 - int(date[:4]), na_action='ignore')"
   ]
  },
  {
   "cell_type": "code",
   "execution_count": 66,
   "metadata": {},
   "outputs": [
    {
     "data": {
      "text/plain": [
       " 0    981\n",
       " 1    900\n",
       " 2    776\n",
       " 3    539\n",
       " 4    398\n",
       " 5    149\n",
       " 6     64\n",
       "-1      5\n",
       " 7      4\n",
       "Name: host_since, dtype: int64"
      ]
     },
     "execution_count": 66,
     "metadata": {},
     "output_type": "execute_result"
    }
   ],
   "source": [
    "data_clean['host_since'].value_counts()"
   ]
  },
  {
   "cell_type": "code",
   "execution_count": 67,
   "metadata": {},
   "outputs": [
    {
     "name": "stdout",
     "output_type": "stream",
     "text": [
      "Ecoding host_since as one-hot..\n"
     ]
    }
   ],
   "source": [
    "data_clean = oneHot('host_since', data_clean)"
   ]
  },
  {
   "cell_type": "code",
   "execution_count": 68,
   "metadata": {},
   "outputs": [
    {
     "data": {
      "text/plain": [
       "Seattle, Washington, United States                             3259\n",
       "US                                                              246\n",
       "Spokane, Washington, United States                               41\n",
       "Kent, Washington, United States                                  34\n",
       "Los Angeles, California, United States                           13\n",
       "Bellevue, Washington, United States                              12\n",
       "San Francisco, California, United States                         11\n",
       "Mercer Island, Washington, United States                         10\n",
       "Kirkland, Washington, United States                               8\n",
       "New York, New York, United States                                 6\n",
       "Sammamish, Washington, United States                              5\n",
       "Seattle                                                           5\n",
       "Vashon, Washington, United States                                 5\n",
       "Shoreline, Washington, United States                              5\n",
       "Seattle, Washington                                               4\n",
       "Portland, Oregon, United States                                   4\n",
       "San Diego, California, United States                              4\n",
       "Tucson, Arizona, United States                                    4\n",
       "Vancouver, Washington, United States                              4\n",
       "Vancouver, British Columbia, Canada                               3\n",
       "Seattle/San Fransisco/Taipei                                      3\n",
       "Washington State, United States                                   3\n",
       "Palm Springs, California, United States                           3\n",
       "Blaine, Washington, United States                                 3\n",
       "Montezuma,Costas Rica  and Seattle Wasington, United States       3\n",
       "Issaquah, Washington, United States                               3\n",
       "San Francisco, California                                         3\n",
       "Snoqualmie, Washington, United States                             2\n",
       "West Hollywood, California, United States                         2\n",
       "DZ                                                                2\n",
       "                                                               ... \n",
       "Bellingham, Washington, United States                             1\n",
       "Vashon Island, Seattle, WA                                        1\n",
       "Mount Vernon, Washington, United States                           1\n",
       "Alamosa, Colorado, United States                                  1\n",
       "Beijing, Beijing, China                                           1\n",
       "Accra, Greater Accra, Ghana                                       1\n",
       "Long Beach, California, United States                             1\n",
       "Castle Rock, Washington, United States                            1\n",
       "West Seattle, Washington                                          1\n",
       "Seattle WA and Portland OR                                        1\n",
       "Arlington, Massachusetts, United States                           1\n",
       "Salt Lake City, Utah, United States                               1\n",
       "Las Vegas, Nevada, United States                                  1\n",
       "Greenwood Village, Colorado, United States                        1\n",
       "Oakland, California, United States                                1\n",
       "Port Townsend, Washington, United States                          1\n",
       "Santa Monica, California, United States                           1\n",
       "Lynnwood, Washington, United States                               1\n",
       "California                                                        1\n",
       "Chelan, Washington, United States                                 1\n",
       "Gig Harbor, Washington, United States                             1\n",
       "Newcastle, Washington, United States                              1\n",
       "Lincoln, Vermont, United States                                   1\n",
       "Bloomington, Indiana, United States                               1\n",
       "Winston-Salem, North Carolina, United States                      1\n",
       "White Pine, Tennessee, United States                              1\n",
       "Quilcene, Washington, United States                               1\n",
       "Port Orchard, Washington, United States                           1\n",
       "Cambridge, Massachusetts, United States                           1\n",
       "Redmond, Washington, United States                                1\n",
       "Name: host_location, Length: 120, dtype: int64"
      ]
     },
     "execution_count": 68,
     "metadata": {},
     "output_type": "execute_result"
    }
   ],
   "source": [
    "data_clean['host_location'].value_counts()"
   ]
  },
  {
   "cell_type": "markdown",
   "metadata": {},
   "source": [
    "so many different location here, drop it"
   ]
  },
  {
   "cell_type": "code",
   "execution_count": 69,
   "metadata": {},
   "outputs": [
    {
     "name": "stdout",
     "output_type": "stream",
     "text": [
      "Dropping host_location...\n"
     ]
    }
   ],
   "source": [
    "data_clean = drop(data_clean, 'host_location')"
   ]
  },
  {
   "cell_type": "code",
   "execution_count": 70,
   "metadata": {},
   "outputs": [
    {
     "data": {
      "text/plain": [
       "Capitol Hill                 405\n",
       "Belltown                     254\n",
       "Ballard                      210\n",
       "Minor                        191\n",
       "Queen Anne                   189\n",
       "Fremont                      147\n",
       "Wallingford                  134\n",
       "North Beacon Hill            101\n",
       "Ravenna                      100\n",
       "Central Business District     93\n",
       "Stevens                       87\n",
       "First Hill                    85\n",
       "University District           80\n",
       "Greenwood                     80\n",
       "Lower Queen Anne              75\n",
       "Columbia City                 61\n",
       "Green Lake                    55\n",
       "North Admiral                 53\n",
       "Magnolia                      53\n",
       "Phinney Ridge                 52\n",
       "Atlantic                      49\n",
       "Leschi                        46\n",
       "Mount Baker                   44\n",
       "Eastlake                      42\n",
       "Maple Leaf                    40\n",
       "Madrona                       40\n",
       "The Junction                  39\n",
       "Roosevelt                     32\n",
       "Pike Place Market             31\n",
       "Genesee                       30\n",
       "                            ... \n",
       "Cedar Park                     6\n",
       "Broadway                       5\n",
       "Brighton                       5\n",
       "Interbay                       4\n",
       "Arbor Heights                  3\n",
       "Industrial District            3\n",
       "Fenway/Kenmore                 2\n",
       "Mission District               2\n",
       "Kaanapali                      2\n",
       "Jamaica Plain                  2\n",
       "North Hollywood                1\n",
       "Beverly Hills                  1\n",
       "North College Park             1\n",
       "Central San Pedro              1\n",
       "Clairemont Mesa East           1\n",
       "Long Beach                     1\n",
       "Santa Monica                   1\n",
       "Kauaʻi                         1\n",
       "Waianae Coast                  1\n",
       "Forestland                     1\n",
       "Pinehurst                      1\n",
       "South Beacon Hill              1\n",
       "Northwest District             1\n",
       "East Village                   1\n",
       "Downtown Toronto               1\n",
       "Hell's Kitchen                 1\n",
       "Baldwin Hills                  1\n",
       "Manhattan Beach                1\n",
       "Huntington Beach               1\n",
       "Roxhill                        1\n",
       "Name: host_neighbourhood, Length: 102, dtype: int64"
      ]
     },
     "execution_count": 70,
     "metadata": {},
     "output_type": "execute_result"
    }
   ],
   "source": [
    "data_clean['host_neighbourhood'].value_counts()"
   ]
  },
  {
   "cell_type": "markdown",
   "metadata": {},
   "source": [
    "So many different neighbourhood here. Also the neighbourhood of host seems to make no sense. Drop it"
   ]
  },
  {
   "cell_type": "code",
   "execution_count": 71,
   "metadata": {},
   "outputs": [
    {
     "name": "stdout",
     "output_type": "stream",
     "text": [
      "Dropping host_neighbourhood...\n"
     ]
    }
   ],
   "source": [
    "# so many different neighbourhood here, drop it\n",
    "data_clean = drop(data_clean, 'host_neighbourhood')"
   ]
  },
  {
   "cell_type": "code",
   "execution_count": 72,
   "metadata": {},
   "outputs": [
    {
     "data": {
      "text/plain": [
       "Other neighborhoods    794\n",
       "Capitol Hill           567\n",
       "Downtown               528\n",
       "Central Area           369\n",
       "Queen Anne             295\n",
       "Ballard                230\n",
       "West Seattle           203\n",
       "Rainier Valley         159\n",
       "University District    122\n",
       "Beacon Hill            118\n",
       "Cascade                 89\n",
       "Northgate               80\n",
       "Delridge                79\n",
       "Lake City               67\n",
       "Magnolia                61\n",
       "Seward Park             44\n",
       "Interbay                11\n",
       "Name: neighbourhood_group_cleansed, dtype: int64"
      ]
     },
     "execution_count": 72,
     "metadata": {},
     "output_type": "execute_result"
    }
   ],
   "source": [
    "data_clean['neighbourhood_group_cleansed'].value_counts()"
   ]
  },
  {
   "cell_type": "markdown",
   "metadata": {},
   "source": [
    "The size is ok, and I assume neighbourhood of home is imformative"
   ]
  },
  {
   "cell_type": "code",
   "execution_count": 73,
   "metadata": {},
   "outputs": [
    {
     "name": "stdout",
     "output_type": "stream",
     "text": [
      "Ecoding neighbourhood_group_cleansed as one-hot..\n"
     ]
    }
   ],
   "source": [
    "data_clean = oneHot('neighbourhood_group_cleansed', data_clean)"
   ]
  },
  {
   "cell_type": "code",
   "execution_count": 74,
   "metadata": {},
   "outputs": [
    {
     "data": {
      "text/plain": [
       "House              1733\n",
       "Apartment          1706\n",
       "Townhouse           118\n",
       "Condominium          91\n",
       "Loft                 40\n",
       "Bed & Breakfast      37\n",
       "Other                22\n",
       "Cabin                21\n",
       "Bungalow             13\n",
       "Camper/RV            13\n",
       "Boat                  8\n",
       "Tent                  5\n",
       "Treehouse             3\n",
       "Dorm                  2\n",
       "Chalet                2\n",
       "Yurt                  1\n",
       "Name: property_type, dtype: int64"
      ]
     },
     "execution_count": 74,
     "metadata": {},
     "output_type": "execute_result"
    }
   ],
   "source": [
    "data_clean['property_type'].value_counts()"
   ]
  },
  {
   "cell_type": "markdown",
   "metadata": {},
   "source": [
    "Size of category is acceptable, encode it as one-hot"
   ]
  },
  {
   "cell_type": "code",
   "execution_count": 75,
   "metadata": {},
   "outputs": [
    {
     "name": "stdout",
     "output_type": "stream",
     "text": [
      "Ecoding property_type as one-hot..\n"
     ]
    }
   ],
   "source": [
    "data_clean = oneHot('property_type', data_clean)"
   ]
  },
  {
   "cell_type": "code",
   "execution_count": 76,
   "metadata": {},
   "outputs": [
    {
     "data": {
      "text/plain": [
       "today            706\n",
       "2 weeks ago      347\n",
       "3 weeks ago      300\n",
       "2 months ago     280\n",
       "a week ago       247\n",
       "yesterday        231\n",
       "3 months ago     218\n",
       "4 weeks ago      213\n",
       "3 days ago       162\n",
       "5 weeks ago      156\n",
       "4 days ago       145\n",
       "4 months ago     133\n",
       "5 days ago       132\n",
       "6 weeks ago      118\n",
       "2 days ago        96\n",
       "5 months ago      91\n",
       "7 weeks ago       63\n",
       "6 months ago      29\n",
       "6 days ago        28\n",
       "1 week ago        26\n",
       "never             24\n",
       "7 months ago      23\n",
       "8 months ago      14\n",
       "10 months ago      8\n",
       "9 months ago       7\n",
       "12 months ago      5\n",
       "11 months ago      5\n",
       "13 months ago      2\n",
       "22 months ago      2\n",
       "14 months ago      1\n",
       "30 months ago      1\n",
       "15 months ago      1\n",
       "17 months ago      1\n",
       "16 months ago      1\n",
       "Name: calendar_updated, dtype: int64"
      ]
     },
     "execution_count": 76,
     "metadata": {},
     "output_type": "execute_result"
    }
   ],
   "source": [
    "data_clean['calendar_updated'].value_counts()"
   ]
  },
  {
   "cell_type": "markdown",
   "metadata": {},
   "source": [
    "Too many different calendar updated here, drop it"
   ]
  },
  {
   "cell_type": "code",
   "execution_count": 77,
   "metadata": {},
   "outputs": [
    {
     "name": "stdout",
     "output_type": "stream",
     "text": [
      "Dropping calendar_updated...\n"
     ]
    }
   ],
   "source": [
    "data_clean = drop(data_clean, 'calendar_updated')"
   ]
  },
  {
   "cell_type": "markdown",
   "metadata": {},
   "source": [
    "'amenities' column is unstructured. Build a set of binary variables to record whether the room has certain amenities."
   ]
  },
  {
   "cell_type": "code",
   "execution_count": 78,
   "metadata": {},
   "outputs": [
    {
     "data": {
      "text/plain": [
       "0    {TV,\"Cable TV\",Internet,\"Wireless Internet\",\"A...\n",
       "1    {TV,Internet,\"Wireless Internet\",Kitchen,\"Free...\n",
       "2    {TV,\"Cable TV\",Internet,\"Wireless Internet\",\"A...\n",
       "3    {Internet,\"Wireless Internet\",Kitchen,\"Indoor ...\n",
       "4    {TV,\"Cable TV\",Internet,\"Wireless Internet\",Ki...\n",
       "Name: amenities, dtype: object"
      ]
     },
     "execution_count": 78,
     "metadata": {},
     "output_type": "execute_result"
    }
   ],
   "source": [
    "data_clean['amenities'].head()"
   ]
  },
  {
   "cell_type": "code",
   "execution_count": 79,
   "metadata": {},
   "outputs": [],
   "source": [
    "# convert it into python list\n",
    "data_clean['amenities'] = data_clean['amenities'].map(lambda amenities: amenities[1:-1].replace('\"', '').split(','))"
   ]
  },
  {
   "cell_type": "code",
   "execution_count": 80,
   "metadata": {},
   "outputs": [
    {
     "data": {
      "text/plain": [
       "0    [TV, Cable TV, Internet, Wireless Internet, Ai...\n",
       "1    [TV, Internet, Wireless Internet, Kitchen, Fre...\n",
       "2    [TV, Cable TV, Internet, Wireless Internet, Ai...\n",
       "3    [Internet, Wireless Internet, Kitchen, Indoor ...\n",
       "4    [TV, Cable TV, Internet, Wireless Internet, Ki...\n",
       "Name: amenities, dtype: object"
      ]
     },
     "execution_count": 80,
     "metadata": {},
     "output_type": "execute_result"
    }
   ],
   "source": [
    "# check if it become better\n",
    "data_clean['amenities'].head()"
   ]
  },
  {
   "cell_type": "code",
   "execution_count": 81,
   "metadata": {
    "scrolled": false
   },
   "outputs": [
    {
     "name": "stdout",
     "output_type": "stream",
     "text": [
      "22\n",
      "['TV', 'Cable TV', 'Internet', 'Wireless Internet', 'Kitchen', 'Free Parking on Premises', 'Pets live on this property', 'Dog(s)', 'Elevator in Building', 'Hot Tub', 'Indoor Fireplace', 'Buzzer/Wireless Intercom', 'Heating', 'Family/Kid Friendly', 'Washer', 'Dryer', 'Smoke Detector', 'Essentials', 'Shampoo', 'Hangers', 'Iron', 'Laptop Friendly Workspace']\n"
     ]
    }
   ],
   "source": [
    "# to see how many different amenities there are\n",
    "amenities = set()\n",
    "for a in data_clean['amenities']:\n",
    "    amenities |= set(a)\n",
    "print(len(a))\n",
    "print(a)"
   ]
  },
  {
   "cell_type": "code",
   "execution_count": 82,
   "metadata": {},
   "outputs": [
    {
     "name": "stdout",
     "output_type": "stream",
     "text": [
      "Dropping amenities...\n"
     ]
    }
   ],
   "source": [
    "# create new bainary columns if one amentity exist\n",
    "for a in amenities:\n",
    "    data_clean[a] = data_clean['amenities'].apply(lambda amenities: 1 if a in amenities else 0)\n",
    "# do not forget to drop orignal columns\n",
    "data_clean = drop(data_clean, 'amenities')"
   ]
  },
  {
   "cell_type": "code",
   "execution_count": 83,
   "metadata": {},
   "outputs": [
    {
     "data": {
      "text/html": [
       "<div>\n",
       "<style scoped>\n",
       "    .dataframe tbody tr th:only-of-type {\n",
       "        vertical-align: middle;\n",
       "    }\n",
       "\n",
       "    .dataframe tbody tr th {\n",
       "        vertical-align: top;\n",
       "    }\n",
       "\n",
       "    .dataframe thead th {\n",
       "        text-align: right;\n",
       "    }\n",
       "</style>\n",
       "<table border=\"1\" class=\"dataframe\">\n",
       "  <thead>\n",
       "    <tr style=\"text-align: right;\">\n",
       "      <th></th>\n",
       "      <th>host_response_rate</th>\n",
       "      <th>host_acceptance_rate</th>\n",
       "      <th>accommodates</th>\n",
       "      <th>bathrooms</th>\n",
       "      <th>bedrooms</th>\n",
       "      <th>beds</th>\n",
       "      <th>price</th>\n",
       "      <th>guests_included</th>\n",
       "      <th>minimum_nights</th>\n",
       "      <th>maximum_nights</th>\n",
       "      <th>...</th>\n",
       "      <th>Wireless Internet</th>\n",
       "      <th>Shampoo</th>\n",
       "      <th>Essentials</th>\n",
       "      <th>Pool</th>\n",
       "      <th>Laptop Friendly Workspace</th>\n",
       "      <th>Suitable for Events</th>\n",
       "      <th>Dryer</th>\n",
       "      <th>24-Hour Check-in</th>\n",
       "      <th>First Aid Kit</th>\n",
       "      <th>TV</th>\n",
       "    </tr>\n",
       "  </thead>\n",
       "  <tbody>\n",
       "    <tr>\n",
       "      <th>count</th>\n",
       "      <td>3295.000000</td>\n",
       "      <td>3045.000000</td>\n",
       "      <td>3816.000000</td>\n",
       "      <td>3800.000000</td>\n",
       "      <td>3810.000000</td>\n",
       "      <td>3815.000000</td>\n",
       "      <td>3816.000000</td>\n",
       "      <td>3816.000000</td>\n",
       "      <td>3816.000000</td>\n",
       "      <td>3816.000000</td>\n",
       "      <td>...</td>\n",
       "      <td>3816.000000</td>\n",
       "      <td>3816.000000</td>\n",
       "      <td>3816.000000</td>\n",
       "      <td>3816.000000</td>\n",
       "      <td>3816.000000</td>\n",
       "      <td>3816.000000</td>\n",
       "      <td>3816.000000</td>\n",
       "      <td>3816.000000</td>\n",
       "      <td>3816.000000</td>\n",
       "      <td>3816.000000</td>\n",
       "    </tr>\n",
       "    <tr>\n",
       "      <th>mean</th>\n",
       "      <td>0.948868</td>\n",
       "      <td>0.999672</td>\n",
       "      <td>3.350105</td>\n",
       "      <td>1.259605</td>\n",
       "      <td>1.308136</td>\n",
       "      <td>1.735780</td>\n",
       "      <td>127.951782</td>\n",
       "      <td>1.672956</td>\n",
       "      <td>2.369759</td>\n",
       "      <td>780.558438</td>\n",
       "      <td>...</td>\n",
       "      <td>0.960430</td>\n",
       "      <td>0.699423</td>\n",
       "      <td>0.848008</td>\n",
       "      <td>0.041667</td>\n",
       "      <td>0.194969</td>\n",
       "      <td>0.054507</td>\n",
       "      <td>0.784853</td>\n",
       "      <td>0.161164</td>\n",
       "      <td>0.440252</td>\n",
       "      <td>0.674004</td>\n",
       "    </tr>\n",
       "    <tr>\n",
       "      <th>std</th>\n",
       "      <td>0.118667</td>\n",
       "      <td>0.018122</td>\n",
       "      <td>1.977876</td>\n",
       "      <td>0.590494</td>\n",
       "      <td>0.883359</td>\n",
       "      <td>1.139654</td>\n",
       "      <td>90.250833</td>\n",
       "      <td>1.311293</td>\n",
       "      <td>16.310159</td>\n",
       "      <td>1683.975176</td>\n",
       "      <td>...</td>\n",
       "      <td>0.194973</td>\n",
       "      <td>0.458569</td>\n",
       "      <td>0.359060</td>\n",
       "      <td>0.199853</td>\n",
       "      <td>0.396228</td>\n",
       "      <td>0.227046</td>\n",
       "      <td>0.410978</td>\n",
       "      <td>0.367730</td>\n",
       "      <td>0.496482</td>\n",
       "      <td>0.468807</td>\n",
       "    </tr>\n",
       "    <tr>\n",
       "      <th>min</th>\n",
       "      <td>0.170000</td>\n",
       "      <td>0.000000</td>\n",
       "      <td>1.000000</td>\n",
       "      <td>0.000000</td>\n",
       "      <td>0.000000</td>\n",
       "      <td>1.000000</td>\n",
       "      <td>20.000000</td>\n",
       "      <td>0.000000</td>\n",
       "      <td>1.000000</td>\n",
       "      <td>1.000000</td>\n",
       "      <td>...</td>\n",
       "      <td>0.000000</td>\n",
       "      <td>0.000000</td>\n",
       "      <td>0.000000</td>\n",
       "      <td>0.000000</td>\n",
       "      <td>0.000000</td>\n",
       "      <td>0.000000</td>\n",
       "      <td>0.000000</td>\n",
       "      <td>0.000000</td>\n",
       "      <td>0.000000</td>\n",
       "      <td>0.000000</td>\n",
       "    </tr>\n",
       "    <tr>\n",
       "      <th>25%</th>\n",
       "      <td>0.980000</td>\n",
       "      <td>1.000000</td>\n",
       "      <td>2.000000</td>\n",
       "      <td>1.000000</td>\n",
       "      <td>1.000000</td>\n",
       "      <td>1.000000</td>\n",
       "      <td>75.000000</td>\n",
       "      <td>1.000000</td>\n",
       "      <td>1.000000</td>\n",
       "      <td>60.000000</td>\n",
       "      <td>...</td>\n",
       "      <td>1.000000</td>\n",
       "      <td>0.000000</td>\n",
       "      <td>1.000000</td>\n",
       "      <td>0.000000</td>\n",
       "      <td>0.000000</td>\n",
       "      <td>0.000000</td>\n",
       "      <td>1.000000</td>\n",
       "      <td>0.000000</td>\n",
       "      <td>0.000000</td>\n",
       "      <td>0.000000</td>\n",
       "    </tr>\n",
       "    <tr>\n",
       "      <th>50%</th>\n",
       "      <td>1.000000</td>\n",
       "      <td>1.000000</td>\n",
       "      <td>3.000000</td>\n",
       "      <td>1.000000</td>\n",
       "      <td>1.000000</td>\n",
       "      <td>1.000000</td>\n",
       "      <td>100.000000</td>\n",
       "      <td>1.000000</td>\n",
       "      <td>2.000000</td>\n",
       "      <td>1125.000000</td>\n",
       "      <td>...</td>\n",
       "      <td>1.000000</td>\n",
       "      <td>1.000000</td>\n",
       "      <td>1.000000</td>\n",
       "      <td>0.000000</td>\n",
       "      <td>0.000000</td>\n",
       "      <td>0.000000</td>\n",
       "      <td>1.000000</td>\n",
       "      <td>0.000000</td>\n",
       "      <td>0.000000</td>\n",
       "      <td>1.000000</td>\n",
       "    </tr>\n",
       "    <tr>\n",
       "      <th>75%</th>\n",
       "      <td>1.000000</td>\n",
       "      <td>1.000000</td>\n",
       "      <td>4.000000</td>\n",
       "      <td>1.000000</td>\n",
       "      <td>2.000000</td>\n",
       "      <td>2.000000</td>\n",
       "      <td>150.000000</td>\n",
       "      <td>2.000000</td>\n",
       "      <td>2.000000</td>\n",
       "      <td>1125.000000</td>\n",
       "      <td>...</td>\n",
       "      <td>1.000000</td>\n",
       "      <td>1.000000</td>\n",
       "      <td>1.000000</td>\n",
       "      <td>0.000000</td>\n",
       "      <td>0.000000</td>\n",
       "      <td>0.000000</td>\n",
       "      <td>1.000000</td>\n",
       "      <td>0.000000</td>\n",
       "      <td>1.000000</td>\n",
       "      <td>1.000000</td>\n",
       "    </tr>\n",
       "    <tr>\n",
       "      <th>max</th>\n",
       "      <td>1.000000</td>\n",
       "      <td>1.000000</td>\n",
       "      <td>16.000000</td>\n",
       "      <td>8.000000</td>\n",
       "      <td>7.000000</td>\n",
       "      <td>15.000000</td>\n",
       "      <td>1000.000000</td>\n",
       "      <td>15.000000</td>\n",
       "      <td>1000.000000</td>\n",
       "      <td>100000.000000</td>\n",
       "      <td>...</td>\n",
       "      <td>1.000000</td>\n",
       "      <td>1.000000</td>\n",
       "      <td>1.000000</td>\n",
       "      <td>1.000000</td>\n",
       "      <td>1.000000</td>\n",
       "      <td>1.000000</td>\n",
       "      <td>1.000000</td>\n",
       "      <td>1.000000</td>\n",
       "      <td>1.000000</td>\n",
       "      <td>1.000000</td>\n",
       "    </tr>\n",
       "  </tbody>\n",
       "</table>\n",
       "<p>8 rows × 125 columns</p>\n",
       "</div>"
      ],
      "text/plain": [
       "       host_response_rate  host_acceptance_rate  accommodates    bathrooms  \\\n",
       "count         3295.000000           3045.000000   3816.000000  3800.000000   \n",
       "mean             0.948868              0.999672      3.350105     1.259605   \n",
       "std              0.118667              0.018122      1.977876     0.590494   \n",
       "min              0.170000              0.000000      1.000000     0.000000   \n",
       "25%              0.980000              1.000000      2.000000     1.000000   \n",
       "50%              1.000000              1.000000      3.000000     1.000000   \n",
       "75%              1.000000              1.000000      4.000000     1.000000   \n",
       "max              1.000000              1.000000     16.000000     8.000000   \n",
       "\n",
       "          bedrooms         beds        price  guests_included  minimum_nights  \\\n",
       "count  3810.000000  3815.000000  3816.000000      3816.000000     3816.000000   \n",
       "mean      1.308136     1.735780   127.951782         1.672956        2.369759   \n",
       "std       0.883359     1.139654    90.250833         1.311293       16.310159   \n",
       "min       0.000000     1.000000    20.000000         0.000000        1.000000   \n",
       "25%       1.000000     1.000000    75.000000         1.000000        1.000000   \n",
       "50%       1.000000     1.000000   100.000000         1.000000        2.000000   \n",
       "75%       2.000000     2.000000   150.000000         2.000000        2.000000   \n",
       "max       7.000000    15.000000  1000.000000        15.000000     1000.000000   \n",
       "\n",
       "       maximum_nights  ...  Wireless Internet      Shampoo   Essentials  \\\n",
       "count     3816.000000  ...        3816.000000  3816.000000  3816.000000   \n",
       "mean       780.558438  ...           0.960430     0.699423     0.848008   \n",
       "std       1683.975176  ...           0.194973     0.458569     0.359060   \n",
       "min          1.000000  ...           0.000000     0.000000     0.000000   \n",
       "25%         60.000000  ...           1.000000     0.000000     1.000000   \n",
       "50%       1125.000000  ...           1.000000     1.000000     1.000000   \n",
       "75%       1125.000000  ...           1.000000     1.000000     1.000000   \n",
       "max     100000.000000  ...           1.000000     1.000000     1.000000   \n",
       "\n",
       "              Pool  Laptop Friendly Workspace  Suitable for Events  \\\n",
       "count  3816.000000                3816.000000          3816.000000   \n",
       "mean      0.041667                   0.194969             0.054507   \n",
       "std       0.199853                   0.396228             0.227046   \n",
       "min       0.000000                   0.000000             0.000000   \n",
       "25%       0.000000                   0.000000             0.000000   \n",
       "50%       0.000000                   0.000000             0.000000   \n",
       "75%       0.000000                   0.000000             0.000000   \n",
       "max       1.000000                   1.000000             1.000000   \n",
       "\n",
       "             Dryer  24-Hour Check-in  First Aid Kit           TV  \n",
       "count  3816.000000       3816.000000    3816.000000  3816.000000  \n",
       "mean      0.784853          0.161164       0.440252     0.674004  \n",
       "std       0.410978          0.367730       0.496482     0.468807  \n",
       "min       0.000000          0.000000       0.000000     0.000000  \n",
       "25%       1.000000          0.000000       0.000000     0.000000  \n",
       "50%       1.000000          0.000000       0.000000     1.000000  \n",
       "75%       1.000000          0.000000       1.000000     1.000000  \n",
       "max       1.000000          1.000000       1.000000     1.000000  \n",
       "\n",
       "[8 rows x 125 columns]"
      ]
     },
     "execution_count": 83,
     "metadata": {},
     "output_type": "execute_result"
    }
   ],
   "source": [
    "data_clean.describe()"
   ]
  },
  {
   "cell_type": "markdown",
   "metadata": {},
   "source": [
    "#### Step 04: Fill Missing Value"
   ]
  },
  {
   "cell_type": "code",
   "execution_count": 84,
   "metadata": {},
   "outputs": [
    {
     "data": {
      "text/plain": [
       "1315"
      ]
     },
     "execution_count": 84,
     "metadata": {},
     "output_type": "execute_result"
    }
   ],
   "source": [
    "# Check if NaN exist\n",
    "data_clean.isnull().sum().sum()"
   ]
  },
  {
   "cell_type": "markdown",
   "metadata": {},
   "source": [
    "Now there are still some missing values remained.\n",
    "\n",
    "Since all of non-float columns have done, all of the missings are continous. We can fill them with mean or median to impute it.\n",
    "\n",
    "I decide to use median because it is more robust (Free from the influence of outlier)."
   ]
  },
  {
   "cell_type": "code",
   "execution_count": 85,
   "metadata": {
    "scrolled": false
   },
   "outputs": [],
   "source": [
    "# fill missing value with median\n",
    "for feat in data_clean.columns:\n",
    "    data_clean[feat].fillna(data_clean[feat].median(), inplace=True)"
   ]
  },
  {
   "cell_type": "code",
   "execution_count": 86,
   "metadata": {},
   "outputs": [
    {
     "data": {
      "text/plain": [
       "0"
      ]
     },
     "execution_count": 86,
     "metadata": {},
     "output_type": "execute_result"
    }
   ],
   "source": [
    "# Check if NaN exist\n",
    "data_clean.isnull().sum().sum()"
   ]
  },
  {
   "cell_type": "markdown",
   "metadata": {},
   "source": [
    "#### Step 05: Feature Feature Scaling"
   ]
  },
  {
   "cell_type": "code",
   "execution_count": 87,
   "metadata": {},
   "outputs": [
    {
     "name": "stderr",
     "output_type": "stream",
     "text": [
      "D:\\Anaconda3\\lib\\site-packages\\sklearn\\preprocessing\\data.py:625: DataConversionWarning: Data with input dtype uint8, int64, float64 were all converted to float64 by StandardScaler.\n",
      "  return self.partial_fit(X, y)\n",
      "D:\\Anaconda3\\lib\\site-packages\\sklearn\\base.py:462: DataConversionWarning: Data with input dtype uint8, int64, float64 were all converted to float64 by StandardScaler.\n",
      "  return self.fit(X, **fit_params).transform(X)\n"
     ]
    }
   ],
   "source": [
    "from sklearn import preprocessing as p\n",
    "scaler = p.StandardScaler()\n",
    "columns = data_clean.columns\n",
    "data_clean = scaler.fit_transform(data_clean)\n",
    "data_clean = pd.DataFrame(data_clean)\n",
    "data_clean.columns = columns"
   ]
  },
  {
   "cell_type": "code",
   "execution_count": 88,
   "metadata": {},
   "outputs": [
    {
     "data": {
      "text/html": [
       "<div>\n",
       "<style scoped>\n",
       "    .dataframe tbody tr th:only-of-type {\n",
       "        vertical-align: middle;\n",
       "    }\n",
       "\n",
       "    .dataframe tbody tr th {\n",
       "        vertical-align: top;\n",
       "    }\n",
       "\n",
       "    .dataframe thead th {\n",
       "        text-align: right;\n",
       "    }\n",
       "</style>\n",
       "<table border=\"1\" class=\"dataframe\">\n",
       "  <thead>\n",
       "    <tr style=\"text-align: right;\">\n",
       "      <th></th>\n",
       "      <th>host_response_rate</th>\n",
       "      <th>host_acceptance_rate</th>\n",
       "      <th>accommodates</th>\n",
       "      <th>bathrooms</th>\n",
       "      <th>bedrooms</th>\n",
       "      <th>beds</th>\n",
       "      <th>price</th>\n",
       "      <th>guests_included</th>\n",
       "      <th>minimum_nights</th>\n",
       "      <th>maximum_nights</th>\n",
       "      <th>...</th>\n",
       "      <th>Wireless Internet</th>\n",
       "      <th>Shampoo</th>\n",
       "      <th>Essentials</th>\n",
       "      <th>Pool</th>\n",
       "      <th>Laptop Friendly Workspace</th>\n",
       "      <th>Suitable for Events</th>\n",
       "      <th>Dryer</th>\n",
       "      <th>24-Hour Check-in</th>\n",
       "      <th>First Aid Kit</th>\n",
       "      <th>TV</th>\n",
       "    </tr>\n",
       "  </thead>\n",
       "  <tbody>\n",
       "    <tr>\n",
       "      <th>0</th>\n",
       "      <td>0.037181</td>\n",
       "      <td>0.01619</td>\n",
       "      <td>0.328625</td>\n",
       "      <td>-0.438598</td>\n",
       "      <td>-0.348562</td>\n",
       "      <td>-0.645582</td>\n",
       "      <td>-0.475978</td>\n",
       "      <td>0.249438</td>\n",
       "      <td>-0.083993</td>\n",
       "      <td>-0.246805</td>\n",
       "      <td>...</td>\n",
       "      <td>0.202979</td>\n",
       "      <td>-1.525431</td>\n",
       "      <td>-2.362056</td>\n",
       "      <td>-0.208514</td>\n",
       "      <td>-0.492125</td>\n",
       "      <td>-0.240103</td>\n",
       "      <td>0.523568</td>\n",
       "      <td>-0.438323</td>\n",
       "      <td>-0.886858</td>\n",
       "      <td>0.695464</td>\n",
       "    </tr>\n",
       "    <tr>\n",
       "      <th>1</th>\n",
       "      <td>0.216326</td>\n",
       "      <td>0.01619</td>\n",
       "      <td>0.328625</td>\n",
       "      <td>-0.438598</td>\n",
       "      <td>-0.348562</td>\n",
       "      <td>-0.645582</td>\n",
       "      <td>0.244331</td>\n",
       "      <td>-0.513268</td>\n",
       "      <td>-0.022673</td>\n",
       "      <td>-0.410130</td>\n",
       "      <td>...</td>\n",
       "      <td>0.202979</td>\n",
       "      <td>-1.525431</td>\n",
       "      <td>0.423360</td>\n",
       "      <td>-0.208514</td>\n",
       "      <td>-0.492125</td>\n",
       "      <td>-0.240103</td>\n",
       "      <td>0.523568</td>\n",
       "      <td>-0.438323</td>\n",
       "      <td>1.127576</td>\n",
       "      <td>0.695464</td>\n",
       "    </tr>\n",
       "    <tr>\n",
       "      <th>2</th>\n",
       "      <td>-2.560422</td>\n",
       "      <td>0.01619</td>\n",
       "      <td>3.868239</td>\n",
       "      <td>5.499479</td>\n",
       "      <td>4.183336</td>\n",
       "      <td>4.620267</td>\n",
       "      <td>9.386719</td>\n",
       "      <td>6.351088</td>\n",
       "      <td>0.099966</td>\n",
       "      <td>-0.445765</td>\n",
       "      <td>...</td>\n",
       "      <td>0.202979</td>\n",
       "      <td>0.655552</td>\n",
       "      <td>0.423360</td>\n",
       "      <td>-0.208514</td>\n",
       "      <td>-0.492125</td>\n",
       "      <td>-0.240103</td>\n",
       "      <td>0.523568</td>\n",
       "      <td>-0.438323</td>\n",
       "      <td>-0.886858</td>\n",
       "      <td>0.695464</td>\n",
       "    </tr>\n",
       "    <tr>\n",
       "      <th>3</th>\n",
       "      <td>0.395471</td>\n",
       "      <td>0.01619</td>\n",
       "      <td>-0.177034</td>\n",
       "      <td>-0.438598</td>\n",
       "      <td>-1.481536</td>\n",
       "      <td>0.232060</td>\n",
       "      <td>-0.309753</td>\n",
       "      <td>-0.513268</td>\n",
       "      <td>-0.083993</td>\n",
       "      <td>0.204568</td>\n",
       "      <td>...</td>\n",
       "      <td>0.202979</td>\n",
       "      <td>0.655552</td>\n",
       "      <td>0.423360</td>\n",
       "      <td>-0.208514</td>\n",
       "      <td>-0.492125</td>\n",
       "      <td>-0.240103</td>\n",
       "      <td>0.523568</td>\n",
       "      <td>-0.438323</td>\n",
       "      <td>-0.886858</td>\n",
       "      <td>-1.437889</td>\n",
       "    </tr>\n",
       "    <tr>\n",
       "      <th>4</th>\n",
       "      <td>0.395471</td>\n",
       "      <td>0.01619</td>\n",
       "      <td>1.339943</td>\n",
       "      <td>1.257995</td>\n",
       "      <td>1.917387</td>\n",
       "      <td>1.109701</td>\n",
       "      <td>3.568836</td>\n",
       "      <td>3.300263</td>\n",
       "      <td>-0.083993</td>\n",
       "      <td>0.204568</td>\n",
       "      <td>...</td>\n",
       "      <td>0.202979</td>\n",
       "      <td>0.655552</td>\n",
       "      <td>0.423360</td>\n",
       "      <td>-0.208514</td>\n",
       "      <td>-0.492125</td>\n",
       "      <td>-0.240103</td>\n",
       "      <td>-1.909971</td>\n",
       "      <td>-0.438323</td>\n",
       "      <td>1.127576</td>\n",
       "      <td>0.695464</td>\n",
       "    </tr>\n",
       "  </tbody>\n",
       "</table>\n",
       "<p>5 rows × 125 columns</p>\n",
       "</div>"
      ],
      "text/plain": [
       "   host_response_rate  host_acceptance_rate  accommodates  bathrooms  \\\n",
       "0            0.037181               0.01619      0.328625  -0.438598   \n",
       "1            0.216326               0.01619      0.328625  -0.438598   \n",
       "2           -2.560422               0.01619      3.868239   5.499479   \n",
       "3            0.395471               0.01619     -0.177034  -0.438598   \n",
       "4            0.395471               0.01619      1.339943   1.257995   \n",
       "\n",
       "   bedrooms      beds     price  guests_included  minimum_nights  \\\n",
       "0 -0.348562 -0.645582 -0.475978         0.249438       -0.083993   \n",
       "1 -0.348562 -0.645582  0.244331        -0.513268       -0.022673   \n",
       "2  4.183336  4.620267  9.386719         6.351088        0.099966   \n",
       "3 -1.481536  0.232060 -0.309753        -0.513268       -0.083993   \n",
       "4  1.917387  1.109701  3.568836         3.300263       -0.083993   \n",
       "\n",
       "   maximum_nights  ...  Wireless Internet   Shampoo  Essentials      Pool  \\\n",
       "0       -0.246805  ...           0.202979 -1.525431   -2.362056 -0.208514   \n",
       "1       -0.410130  ...           0.202979 -1.525431    0.423360 -0.208514   \n",
       "2       -0.445765  ...           0.202979  0.655552    0.423360 -0.208514   \n",
       "3        0.204568  ...           0.202979  0.655552    0.423360 -0.208514   \n",
       "4        0.204568  ...           0.202979  0.655552    0.423360 -0.208514   \n",
       "\n",
       "   Laptop Friendly Workspace  Suitable for Events     Dryer  24-Hour Check-in  \\\n",
       "0                  -0.492125            -0.240103  0.523568         -0.438323   \n",
       "1                  -0.492125            -0.240103  0.523568         -0.438323   \n",
       "2                  -0.492125            -0.240103  0.523568         -0.438323   \n",
       "3                  -0.492125            -0.240103  0.523568         -0.438323   \n",
       "4                  -0.492125            -0.240103 -1.909971         -0.438323   \n",
       "\n",
       "   First Aid Kit        TV  \n",
       "0      -0.886858  0.695464  \n",
       "1       1.127576  0.695464  \n",
       "2      -0.886858  0.695464  \n",
       "3      -0.886858 -1.437889  \n",
       "4       1.127576  0.695464  \n",
       "\n",
       "[5 rows x 125 columns]"
      ]
     },
     "execution_count": 88,
     "metadata": {},
     "output_type": "execute_result"
    }
   ],
   "source": [
    "data_clean.head()"
   ]
  },
  {
   "cell_type": "markdown",
   "metadata": {},
   "source": [
    "### Model Training "
   ]
  },
  {
   "cell_type": "markdown",
   "metadata": {},
   "source": [
    "#### Step 01: Data Splitting "
   ]
  },
  {
   "cell_type": "code",
   "execution_count": 89,
   "metadata": {},
   "outputs": [
    {
     "name": "stdout",
     "output_type": "stream",
     "text": [
      "Dropping price...\n"
     ]
    }
   ],
   "source": [
    "X = drop(data_clean, 'price')\n",
    "y = data_clean['price']"
   ]
  },
  {
   "cell_type": "code",
   "execution_count": 90,
   "metadata": {},
   "outputs": [],
   "source": [
    "from sklearn.model_selection import train_test_split\n",
    "X_train, X_test, y_train, y_test = train_test_split(X, y, test_size=0.2, random_state=135)"
   ]
  },
  {
   "cell_type": "markdown",
   "metadata": {},
   "source": [
    "#### Step 02: Modeling and Evaluation"
   ]
  },
  {
   "cell_type": "code",
   "execution_count": 91,
   "metadata": {},
   "outputs": [],
   "source": [
    "from sklearn.metrics import mean_squared_error, r2_score\n",
    "\n",
    "def train(model):\n",
    "    model.fit(X_train, y_train)\n",
    "    y_train_pred = model.predict(X_train)\n",
    "    y_test_pred = model.predict(X_test)\n",
    "    \n",
    "    mse = mean_squared_error(y_train, y_train_pred)\n",
    "    r2 = r2_score(y_train, y_train_pred)\n",
    "    print('For training data, mean squared error: {:.4f}, R2: {:.4f}'.format(mse, r2))\n",
    "\n",
    "    mse = mean_squared_error(y_test, y_test_pred)\n",
    "    r2 = r2_score(y_test, y_test_pred)\n",
    "    print('For test data, mean squared error: {:.4f}, R2: {:.4f}'.format(mse, r2))"
   ]
  },
  {
   "cell_type": "code",
   "execution_count": 92,
   "metadata": {},
   "outputs": [
    {
     "name": "stdout",
     "output_type": "stream",
     "text": [
      "For training data, mean squared error: 0.3702, R2: 0.6064\n",
      "For test data, mean squared error: 10194473176012126580375552.0000, R2: -8242749551697516075941888.0000\n"
     ]
    }
   ],
   "source": [
    "# linear regression\n",
    "from sklearn.linear_model import LinearRegression\n",
    "lr = LinearRegression()\n",
    "train(lr)"
   ]
  },
  {
   "cell_type": "code",
   "execution_count": 93,
   "metadata": {},
   "outputs": [
    {
     "name": "stdout",
     "output_type": "stream",
     "text": [
      "For training data, mean squared error: 0.3698, R2: 0.6069\n",
      "For test data, mean squared error: 0.5179, R2: 0.5813\n"
     ]
    }
   ],
   "source": [
    "# ridge regression\n",
    "from sklearn.linear_model import Ridge\n",
    "rr1 = Ridge(alpha=0.5)\n",
    "train(rr1)"
   ]
  },
  {
   "cell_type": "code",
   "execution_count": 94,
   "metadata": {},
   "outputs": [
    {
     "name": "stdout",
     "output_type": "stream",
     "text": [
      "For training data, mean squared error: 0.3698, R2: 0.6069\n",
      "For test data, mean squared error: 0.5181, R2: 0.5811\n"
     ]
    }
   ],
   "source": [
    "rr2 = Ridge(alpha=0.1)\n",
    "train(rr2)"
   ]
  },
  {
   "cell_type": "code",
   "execution_count": 95,
   "metadata": {},
   "outputs": [
    {
     "name": "stdout",
     "output_type": "stream",
     "text": [
      "For training data, mean squared error: 0.3698, R2: 0.6069\n",
      "For test data, mean squared error: 0.5181, R2: 0.5811\n"
     ]
    }
   ],
   "source": [
    "rr3 = Ridge(alpha=0.05)\n",
    "train(rr3)"
   ]
  },
  {
   "cell_type": "code",
   "execution_count": 96,
   "metadata": {},
   "outputs": [
    {
     "name": "stdout",
     "output_type": "stream",
     "text": [
      "For training data, mean squared error: 0.4643, R2: 0.5064\n",
      "For test data, mean squared error: 0.6291, R2: 0.4913\n"
     ]
    }
   ],
   "source": [
    "# lasso regression\n",
    "from sklearn.linear_model import Lasso\n",
    "lasso1 = Lasso(alpha=0.1)\n",
    "train(lasso1)"
   ]
  },
  {
   "cell_type": "code",
   "execution_count": 97,
   "metadata": {},
   "outputs": [
    {
     "name": "stdout",
     "output_type": "stream",
     "text": [
      "For training data, mean squared error: 0.3801, R2: 0.5958\n",
      "For test data, mean squared error: 0.5216, R2: 0.5782\n"
     ]
    }
   ],
   "source": [
    "lasso2 = Lasso(alpha=0.01)\n",
    "train(lasso2)"
   ]
  },
  {
   "cell_type": "code",
   "execution_count": 98,
   "metadata": {},
   "outputs": [
    {
     "name": "stdout",
     "output_type": "stream",
     "text": [
      "For training data, mean squared error: 0.3700, R2: 0.6066\n",
      "For test data, mean squared error: 0.5163, R2: 0.5826\n"
     ]
    }
   ],
   "source": [
    "lasso3 = Lasso(alpha=0.001)\n",
    "train(lasso3)"
   ]
  },
  {
   "cell_type": "markdown",
   "metadata": {},
   "source": [
    "rr1 is my best model"
   ]
  },
  {
   "cell_type": "markdown",
   "metadata": {},
   "source": [
    "#### Step 03: Feature Importance"
   ]
  },
  {
   "cell_type": "code",
   "execution_count": 99,
   "metadata": {},
   "outputs": [],
   "source": [
    "coef = rr2.coef_\n",
    "# to get the order of index\n",
    "ind = np.argsort(-abs(coef))"
   ]
  },
  {
   "cell_type": "code",
   "execution_count": 100,
   "metadata": {},
   "outputs": [
    {
     "data": {
      "text/plain": [
       "Index(['bedrooms', 'property_type_House', 'accommodates',\n",
       "       'host_response_time_within an hour', 'property_type_Apartment',\n",
       "       'bathrooms', 'room_type_Entire home/apt',\n",
       "       'host_response_time_within a few hours',\n",
       "       'host_response_time_within a day', 'room_type_Shared room',\n",
       "       'neighbourhood_group_cleansed_Downtown', 'property_type_Townhouse',\n",
       "       'room_type_Private room', 'neighbourhood_group_cleansed_Capitol Hill',\n",
       "       'Doorman', 'neighbourhood_group_cleansed_Rainier Valley',\n",
       "       'property_type_Bed & Breakfast', 'property_type_Loft',\n",
       "       'property_type_Condominium', 'availability_365',\n",
       "       'neighbourhood_group_cleansed_Queen Anne',\n",
       "       'neighbourhood_group_cleansed_Northgate',\n",
       "       'neighbourhood_group_cleansed_Other neighborhoods',\n",
       "       'Elevator in Building', 'neighbourhood_group_cleansed_Delridge',\n",
       "       'property_type_Cabin', 'property_type_Camper/RV', 'Hangers',\n",
       "       'property_type_Bungalow', 'guests_included'],\n",
       "      dtype='object')"
      ]
     },
     "execution_count": 100,
     "metadata": {},
     "output_type": "execute_result"
    }
   ],
   "source": [
    "X.columns[ind][:30]"
   ]
  },
  {
   "cell_type": "code",
   "execution_count": 101,
   "metadata": {
    "scrolled": false
   },
   "outputs": [
    {
     "data": {
      "image/png": "[encoded data removed]",
      "text/plain": [
       "<Figure size 1080x3600 with 1 Axes>"
      ]
     },
     "metadata": {
      "needs_background": "light"
     },
     "output_type": "display_data"
    }
   ],
   "source": [
    "# draw a bar plot with coefficeint of features in desending order of absolute value\n",
    "x = range(30)\n",
    "y = coef[ind][:30]\n",
    "    \n",
    "plt.figure(figsize=(15,50))\n",
    "ax = plt.subplot()\n",
    "    \n",
    "# draw a vertical black line in the middle\n",
    "plt.plot([0] * (32), range(-1,31), 'k', linewidth=2)\n",
    "\n",
    "# invert y axis\n",
    "plt.gca().invert_yaxis()\n",
    "ax.set_yticks(x)\n",
    "ax.set_yticklabels(X.columns[ind][:30])\n",
    "\n",
    "plt.barh(x, y, color=sns.color_palette('GnBu'))\n",
    "\n",
    "# adjust position\n",
    "for rect, label in zip(ax.patches, y):\n",
    "    if label >= 0:\n",
    "        width = rect.get_width() + 0.01\n",
    "    else:\n",
    "        width = rect.get_width() - 0.01\n",
    "    label = '{:.2f}'.format(label)\n",
    "    ax.text(width, rect.get_y()+0.55, label, ha='center', va='bottom', fontsize=12)\n",
    "    \n",
    "plt.show()"
   ]
  },
  {
   "cell_type": "markdown",
   "metadata": {},
   "source": [
    "Obvious, the number of bedrooms and bathrooms, neighborhood and type of properties are the most influential features."
   ]
  }
 ],
 "metadata": {
  "kernelspec": {
   "display_name": "Python 3",
   "language": "python",
   "name": "python3"
  },
  "language_info": {
   "codemirror_mode": {
    "name": "ipython",
    "version": 3
   },
   "file_extension": ".py",
   "mimetype": "text/x-python",
   "name": "python",
   "nbconvert_exporter": "python",
   "pygments_lexer": "ipython3",
   "version": "3.7.6"
  }
 },
 "nbformat": 4,
 "nbformat_minor": 2
}
